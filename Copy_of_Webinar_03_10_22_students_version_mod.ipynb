{
  "nbformat": 4,
  "nbformat_minor": 0,
  "metadata": {
    "colab": {
      "provenance": [],
      "collapsed_sections": [
        "eb1pcHz9X3u2",
        "EgfG1blbXkgi",
        "qOZa6IFoXkgy",
        "LixN1nKJ-I7E",
        "40WUEkk0Xkg9",
        "87d52f49-f915-4ef9-8174-dff4e4abc4c3",
        "15966abd-127d-4608-a732-0f5d7ecbcc6e",
        "0fa947ba-b916-4f6e-bad1-c2d7e8f72da6",
        "79d7963e-cc07-4df4-8299-0871f327da9f",
        "00c2f4af-3370-4f4d-9d1b-4b7278bc55e0",
        "7zn_H4tZE4Vb",
        "hAfWMa05MTky"
      ],
      "include_colab_link": true
    },
    "kernelspec": {
      "name": "python3",
      "display_name": "Python 3"
    },
    "language_info": {
      "name": "python"
    }
  },
  "cells": [
    {
      "cell_type": "markdown",
      "metadata": {
        "id": "view-in-github",
        "colab_type": "text"
      },
      "source": [
        "<a href=\"https://colab.research.google.com/github/ernestag777/Openmc4l/blob/main/Copy_of_Webinar_03_10_22_students_version_mod.ipynb\" target=\"_parent\"><img src=\"https://colab.research.google.com/assets/colab-badge.svg\" alt=\"Open In Colab\"/></a>"
      ]
    },
    {
      "cell_type": "markdown",
      "metadata": {
        "id": "eb1pcHz9X3u2"
      },
      "source": [
        "# Creación de ambiente virtual"
      ]
    },
    {
      "cell_type": "code",
      "execution_count": null,
      "metadata": {
        "id": "IatJFr3fPNkz",
        "colab": {
          "base_uri": "https://localhost:8080/"
        },
        "outputId": "062abf20-6fc8-466f-8644-a185c9c39de3"
      },
      "outputs": [
        {
          "output_type": "stream",
          "name": "stdout",
          "text": [
            "Obteniendo código fuente de Github...\n",
            "Running cmake...\n",
            "Running make...\n",
            "Running make install...\n",
            "descargando librería nuclear de la base de datos oficial\n",
            "https://openmc.org/official-data-libraries/\n",
            "Se instaló OpenMC en 28.15 minutos\n"
          ]
        }
      ],
      "source": [
        "\n",
        "def install_openmc():\n",
        "  #\n",
        "  # Clone source code from Github, make and install\n",
        "  #\n",
        "\n",
        "  import os\n",
        "\n",
        "  if not os.path.isdir('/content'):\n",
        "    print(\"Esta función instala OpenMC en una instancia de Google Colaboratory.\")\n",
        "    print(\"Para instalar localmente siga las instrucciones de la documentacion:\")\n",
        "    print(\"http://docs.openmc.org/en/stable/quickinstall.html\")\n",
        "    return\n",
        "\n",
        "  %cd -q /content\n",
        "  print(\"Obteniendo código fuente de Github...\")\n",
        "  !git  --no-pager clone https://github.com/openmc-dev/openmc.git &> /dev/null\n",
        "  %cd -q openmc\n",
        "  !git --no-pager checkout master &> /dev/null\n",
        "  !mkdir build\n",
        "  %cd -q build\n",
        "  print(\"Running cmake...\")\n",
        "  !cmake ../ -DPYTHON_EXECUTABLE=/usr/bin/python3 -DCMAKE_INSTALL_PREFIX=/usr/local &> /dev/null\n",
        "  print(\"Running make...\")\n",
        "  !make -j &> /dev/null\n",
        "  print(\"Running make install...\")\n",
        "  !make install &> /dev/null\n",
        "  %cd -q /content/openmc\n",
        "  !pip install . &> /dev/null\n",
        "\n",
        "  !apt update &> /dev/null\n",
        "  !apt install python3-vtk7 imagemagick &> /dev/null\n",
        "\n",
        "  %cd -q /content\n",
        "\n",
        "def install_data_from_onedrive():\n",
        "\n",
        "  import os\n",
        "\n",
        "  if not os.path.isdir('/content'):\n",
        "    print(\"Esta función instala los datos nucleares de OpenMC en una instancia de Google Colaboratory.\")\n",
        "    print(\"Para instalar localmente siga las instrucciones de la documentacion:\")\n",
        "    print(\"http://docs.openmc.org/en/stable/quickinstall.html\")\n",
        "    return\n",
        "\n",
        "\n",
        "  print(\"descargando librería nuclear de la base de datos oficial\")\n",
        "  print(\"https://openmc.org/official-data-libraries/\")\n",
        "  %cd -q /content\n",
        "  !wget -O endfb71.tar.xz \"https://anl.box.com/shared/static/9igk353zpy8fn9ttvtrqgzvw1vtejoz6.xz\" &> /dev/null\n",
        "  !tar -xJf endfb71.tar.xz &> /dev/null\n",
        "\n",
        "\n",
        "from time import time\n",
        "t1 = time()\n",
        "install_openmc()\n",
        "install_data_from_onedrive()\n",
        "t2 = time()\n",
        "print(\"Se instaló OpenMC en {:.2f} minutos\".format((t2-t1)/60.0))\n"
      ]
    },
    {
      "cell_type": "markdown",
      "metadata": {
        "id": "EgfG1blbXkgi"
      },
      "source": [
        "# Modelado de un Pin-Cell\n",
        "En este módulo, se demuestran las características básicas de la API de Python para construir archivos de entrada y ejecutar OpenMC."
      ]
    },
    {
      "cell_type": "markdown",
      "metadata": {
        "id": "qu56YmKQXkgn"
      },
      "source": [
        "Materiales que se usan:\n",
        "- UO<sub>2</sub> con 10 g/cm<sup>3</sup>\n",
        "  - U235 al 0.02115 a/o\n",
        "  - U238 al 0.86032 a/o\n",
        "  - O16 al 0.11852 a/o\n",
        "- Revestido de Zirconium con 6.6 g/cm<sup>3</sup>\n",
        "  - Elemental Zr\n",
        "- Water moderator con 1.0 g/cm<sup>3</sup>\n",
        "  - H1 al 2.0 a/o\n",
        "  - O16 al 1.0 a/o\n",
        "\n",
        "Las dimensiones serán las siguientes:\n",
        "- Radio exterior del combustible = 0,39 cm\n",
        "- Radio interior del  revestimiento = 0,40 cm\n",
        "- Radio exterior del revestimiento = 0,46 cm\n",
        "- Paso del pasador de combustible = 1,26 cm\n"
      ]
    },
    {
      "cell_type": "markdown",
      "metadata": {
        "id": "qOZa6IFoXkgy"
      },
      "source": [
        "\n",
        "\n",
        "### El archivo `cross_sections.xml`\n",
        "\n",
        "`cross_sections.xml` le dice a OpenMC dónde puede encontrar los cross section de nucleidos y tablas $S(\\alpha,\\beta)$. Tiene el mismo propósito que el archivo `xsdir` de MCNP y el archivo `xsdata` de Serpent. Como mencionamos, esto se puede establecer mediante la variable de entorno `OPENMC_CROSS_SECTIONS` o el atributo `Materials.cross_sections`.\n",
        "\n"
      ]
    },
    {
      "cell_type": "code",
      "execution_count": null,
      "metadata": {
        "id": "OZSF11iQXkgo"
      },
      "outputs": [],
      "source": [
        "import openmc\n",
        "import os\n",
        "os.environ['OPENMC_CROSS_SECTIONS'] ='/content/endfb71_hdf5/cross_sections.xml'"
      ]
    },
    {
      "cell_type": "markdown",
      "metadata": {
        "id": "YhcbPfiMXkgp"
      },
      "source": [
        "## Paso 1: Definir los materiales\n",
        "\n",
        "Los materiales en OpenMC se definen como un conjunto de nucleidos con fracciones atómicas/peso específicas. Para comenzar, crearemos un material creando una instancia de la clase 'Material'. En OpenMC, muchos objetos, incluidos los materiales, se identifican mediante una \"identificación única\" que es simplemente un número entero positivo. Estos ID se utilizan al exportar archivos XML que lee el solucionador. También aparecen en la salida y se pueden utilizar para la identificación. Dado que una ID de número entero no es muy útil por sí misma, también puede dar un nombre a un material."
      ]
    },
    {
      "cell_type": "markdown",
      "metadata": {
        "id": "DrLt_Styebb7"
      },
      "source": [
        "La definición de materiales en openmc se realiza llamando a la función `Material()`:"
      ]
    },
    {
      "cell_type": "code",
      "execution_count": null,
      "metadata": {
        "id": "oTAx2EB4Xkgp",
        "colab": {
          "base_uri": "https://localhost:8080/"
        },
        "outputId": "d2f2e915-6632-492e-ee10-97fc509c169f"
      },
      "outputs": [
        {
          "output_type": "stream",
          "name": "stdout",
          "text": [
            "Material\n",
            "\tID             =\t1\n",
            "\tName           =\tuo2\n",
            "\tTemperature    =\tNone\n",
            "\tDensity        =\tNone [sum]\n",
            "\tS(a,b) Tables  \n",
            "\tNuclides       \n",
            "\n"
          ]
        }
      ],
      "source": [
        "uo2 = openmc.Material(1, \"uo2\")\n",
        "print(uo2)"
      ]
    },
    {
      "cell_type": "markdown",
      "metadata": {
        "id": "iVXNf7y1Xkgq"
      },
      "source": [
        "En el lado XML, se debe proporcionar una identificación. Sin embargo, en la API de Python, si no se proporciona una ID, se generará una automáticamente:"
      ]
    },
    {
      "cell_type": "code",
      "execution_count": null,
      "metadata": {
        "id": "0IrMDw8nXkgr",
        "colab": {
          "base_uri": "https://localhost:8080/"
        },
        "outputId": "db5b0743-f1fb-422c-a428-9f9e474b6a3f"
      },
      "outputs": [
        {
          "output_type": "stream",
          "name": "stdout",
          "text": [
            "Material\n",
            "\tID             =\t2\n",
            "\tName           =\t\n",
            "\tTemperature    =\tNone\n",
            "\tDensity        =\tNone [sum]\n",
            "\tS(a,b) Tables  \n",
            "\tNuclides       \n",
            "\n"
          ]
        }
      ],
      "source": [
        "mat = openmc.Material()\n",
        "print(mat)"
      ]
    },
    {
      "cell_type": "markdown",
      "metadata": {
        "id": "JSv6R2psXkgr"
      },
      "source": [
        "Vemos que automáticamente se asignó un ID de 2. Pasemos ahora a agregar nucleidos a nuestro material `uo2`. El objeto`Material` tiene un método `add_nuclide()` cuyo primer argumento es el nombre del nucleido y el segundo argumento es el átomo o fracción de peso.\n"
      ]
    },
    {
      "cell_type": "code",
      "execution_count": null,
      "metadata": {
        "id": "9xMbxX0sXkgs",
        "colab": {
          "base_uri": "https://localhost:8080/"
        },
        "outputId": "ec389c50-a94b-4234-cbbb-439fc5950f2c"
      },
      "outputs": [
        {
          "output_type": "stream",
          "name": "stdout",
          "text": [
            "Help on method add_nuclide in module openmc.material:\n",
            "\n",
            "add_nuclide(nuclide: str, percent: float, percent_type: str = 'ao') method of openmc.material.Material instance\n",
            "    Add a nuclide to the material\n",
            "    \n",
            "    Parameters\n",
            "    ----------\n",
            "    nuclide : str\n",
            "        Nuclide to add, e.g., 'Mo95'\n",
            "    percent : float\n",
            "        Atom or weight percent\n",
            "    percent_type : {'ao', 'wo'}\n",
            "        'ao' for atom percent and 'wo' for weight percent\n",
            "\n"
          ]
        }
      ],
      "source": [
        "help(uo2.add_nuclide)\n"
      ]
    },
    {
      "cell_type": "markdown",
      "metadata": {
        "id": "TMMbYBzEXkgt"
      },
      "source": [
        "Por defecto se asume fracción atómica"
      ]
    },
    {
      "cell_type": "code",
      "execution_count": null,
      "metadata": {
        "id": "KkCb5IIKXkgt"
      },
      "outputs": [],
      "source": [
        "# Ejemplo de como agregar nucleídos uo2\n",
        "uo2.add_nuclide('U235', 0.02115)\n",
        "uo2.add_nuclide('U238', 0.86032)\n",
        "uo2.add_nuclide('O16', 0.11852)"
      ]
    },
    {
      "cell_type": "markdown",
      "metadata": {
        "id": "MgFtk9roXkgt"
      },
      "source": [
        "Para asignar la densidad del materia se usa `set_density`."
      ]
    },
    {
      "cell_type": "code",
      "execution_count": null,
      "metadata": {
        "id": "3qB3xPhcXkgu"
      },
      "outputs": [],
      "source": [
        "uo2.set_density('g/cm3', 10.0)"
      ]
    },
    {
      "cell_type": "markdown",
      "metadata": {
        "id": "EpEq1Q1_Xkgu"
      },
      "source": [
        "A veces se le puede dar una especificación de material donde todas las densidades de nucleidos están en unidades de átomo/b-cm. En este caso, solo desea que la densidad sea la suma de los constituyentes. En ese caso, simplemente puede ejecutar `mat.set_density('sum')`.\n",
        "\n",
        "Ahora vamos a crear materiales para el revestimiento y el refrigerante. Tenga en cuenta el uso de `add_element()` para el circonio.\n"
      ]
    },
    {
      "cell_type": "code",
      "execution_count": null,
      "metadata": {
        "id": "ngaaDhBqXkgu"
      },
      "outputs": [],
      "source": [
        "#EJERCICIO: Con lo aprendido completa la creación los siguientes materiales\n",
        "\n",
        "zirconium = openmc.Material(name=\"zirconium\")\n",
        "zirconium.add_element('Zr',1.0)\n",
        "zirconium.set_density('g/cm3', 6.6)\n",
        "\n",
        "water = openmc.Material(name=\"h2o\")\n",
        "water.add_nuclide('H1', 2.0)\n",
        "water.add_nuclide('O16', 1.0)\n",
        "water.set_density('g/cm3', 1.0)"
      ]
    },
    {
      "cell_type": "markdown",
      "metadata": {
        "id": "H99N1vfLXkgv"
      },
      "source": [
        "El tratamiento default para la sección eficaz de scattering para neutrones térmicos es el de gas libre a la temperatura de la celda o material. En caso de que la biblioteca tenga secciones eficaces de scattering térmico, estas pueden especificarse en la definición del material utilizando el método .add_s_alpha_beta(). Tenga en cuenta el uso del nombre de estilo GND \"c_H_in_H2O\"."
      ]
    },
    {
      "cell_type": "code",
      "execution_count": null,
      "metadata": {
        "id": "sIaiwOKbXkgv"
      },
      "outputs": [],
      "source": [
        "water.add_s_alpha_beta('c_H_in_H2O')"
      ]
    },
    {
      "cell_type": "markdown",
      "metadata": {
        "id": "fVW3DWzoXkgv"
      },
      "source": [
        "Para crear realmente un archivo `materials.xml`, necesitamos instanciar una colección `Materials` y exportarla a XML.\n"
      ]
    },
    {
      "cell_type": "code",
      "execution_count": null,
      "metadata": {
        "id": "CY8qEuKeXkgv"
      },
      "outputs": [],
      "source": [
        "materials = openmc.Materials([uo2, zirconium, water])"
      ]
    },
    {
      "cell_type": "markdown",
      "metadata": {
        "id": "AwZdYlaGXkgw"
      },
      "source": [
        "Tenga en cuenta que `Materials` es en realidad una subclase de la `lista` integrada de Python, por lo que se puede usar métodos como `append()`, `insert()`, `pop()`, etc."
      ]
    },
    {
      "cell_type": "code",
      "execution_count": null,
      "metadata": {
        "colab": {
          "base_uri": "https://localhost:8080/"
        },
        "id": "PACqr5wGXkgw",
        "outputId": "6d07cfed-7cac-485e-af84-bbc36c63e625"
      },
      "outputs": [
        {
          "output_type": "execute_result",
          "data": {
            "text/plain": [
              "True"
            ]
          },
          "metadata": {},
          "execution_count": 11
        }
      ],
      "source": [
        "materials = openmc.Materials()\n",
        "materials.append(uo2)\n",
        "materials += [zirconium, water]\n",
        "isinstance(materials, list)"
      ]
    },
    {
      "cell_type": "markdown",
      "metadata": {
        "id": "I5jknuPxXkgx"
      },
      "source": [
        "Finalmente, podemos crear el archivo XML con el método `export_to_xml()`. En un cuaderno de Jupyter, podemos ejecutar un comando de shell poniendo `!` delante de él, por lo que en este caso mostraremos el archivo `materials.xml` que creamos."
      ]
    },
    {
      "cell_type": "code",
      "execution_count": null,
      "metadata": {
        "id": "VOhSaGs9Xkgx",
        "colab": {
          "base_uri": "https://localhost:8080/"
        },
        "outputId": "16731405-0731-4730-b15f-010a61861cb9"
      },
      "outputs": [
        {
          "output_type": "stream",
          "name": "stdout",
          "text": [
            "<?xml version='1.0' encoding='utf-8'?>\n",
            "<materials>\n",
            "  <material depletable=\"true\" id=\"1\" name=\"uo2\">\n",
            "    <density units=\"g/cm3\" value=\"10.0\" />\n",
            "    <nuclide ao=\"0.02115\" name=\"U235\" />\n",
            "    <nuclide ao=\"0.86032\" name=\"U238\" />\n",
            "    <nuclide ao=\"0.11852\" name=\"O16\" />\n",
            "  </material>\n",
            "  <material id=\"3\" name=\"zirconium\">\n",
            "    <density units=\"g/cm3\" value=\"6.6\" />\n",
            "    <nuclide ao=\"0.5145\" name=\"Zr90\" />\n",
            "    <nuclide ao=\"0.1122\" name=\"Zr91\" />\n",
            "    <nuclide ao=\"0.1715\" name=\"Zr92\" />\n",
            "    <nuclide ao=\"0.1738\" name=\"Zr94\" />\n",
            "    <nuclide ao=\"0.028\" name=\"Zr96\" />\n",
            "  </material>\n",
            "  <material id=\"4\" name=\"h2o\">\n",
            "    <density units=\"g/cm3\" value=\"1.0\" />\n",
            "    <nuclide ao=\"2.0\" name=\"H1\" />\n",
            "    <nuclide ao=\"1.0\" name=\"O16\" />\n",
            "    <sab name=\"c_H_in_H2O\" />\n",
            "  </material>\n",
            "</materials>\n"
          ]
        }
      ],
      "source": [
        "materials.export_to_xml()\n",
        "!cat materials.xml"
      ]
    },
    {
      "cell_type": "markdown",
      "metadata": {
        "id": "--lnqhzmXkgz"
      },
      "source": [
        "## Definición de geometría\n",
        "\n",
        "En este punto, tenemos tres materiales definidos, exportados a XML y listos para usar en nuestro modelo. Para terminar nuestro modelo, necesitamos definir la disposición geométrica de los materiales. OpenMC representa volúmenes físicos usando geometría sólida constructiva (CSG), también conocida como geometría combinatoria. El objeto que nos permite asignar un material a una región del espacio se llama 'Celda' (mismo concepto en MCNP, para aquellos familiarizados). Para definir una región que podamos asignar a una celda, primero debemos definir las superficies que limitan la región. Una *superficie* es un lugar geométrico de ceros de una función de coordenadas cartesianas $x$, $y$ y $z$, p.\n",
        "\n",
        "- Un plano perpendicular al eje x: $x - x_0 = 0$\n",
        "- Un cilindro paralelo al eje z: $(x - x_0)^2 + (y - y_0)^2 - R^2 = 0$\n",
        "- Una esfera: $(x - x_0)^2 + (y - y_0)^2 + (z - z_0)^2 - R^2 = 0$\n",
        "\n",
        "Entre esas tres clases de superficies (planos, cilindros, esferas), se puede construir una amplia variedad de modelos. También es posible definir conos y superficies generales de segundo orden.\n",
        "\n",
        "Tenga en cuenta que definir una superficie no es suficiente para especificar un volumen: para definir un volumen real, se debe hacer referencia al semiespacio de una superficie. Un *semiespacio* de superficie es la región cuyos puntos satisfacen una desigualdad positiva o negativa de la ecuación de la superficie. Por ejemplo, para una esfera de radio uno centrada en el origen, la ecuación de superficie es $f(x,y,z) = x^2 + y^2 + z^2 - 1 = 0$. Así, decimos que el semiespacio negativo de la esfera, se define como el conjunto de puntos que satisfacen $f(x,y,z) < 0$, que se puede razonar es el interior de la esfera. Por el contrario, el semiespacio positivo de la esfera correspondería a todos los puntos fuera de la esfera.\n",
        "\n",
        "Avancemos y creemos una esfera y confirmemos que lo que les hemos dicho es verdad."
      ]
    },
    {
      "cell_type": "code",
      "execution_count": null,
      "metadata": {
        "id": "Jn4Glx-bXkgz"
      },
      "outputs": [],
      "source": [
        "sphere = openmc.Sphere(r=1.0)"
      ]
    },
    {
      "cell_type": "markdown",
      "metadata": {
        "id": "LCErqPLcXkg0"
      },
      "source": [
        "\n",
        "\n",
        "Tenga en cuenta que, de forma predeterminada, la esfera está centrada en el origen, por lo que no tuvimos que proporcionar los argumentos `x0`, `y0` o `z0`. Estrictamente hablando, también podríamos haber omitido `r` ya que por defecto es uno. Para obtener el medio espacio negativo o positivo, simplemente necesitamos aplicar los operadores unarios `-` o `+`, respectivamente.\n",
        "\n",
        "(NOTA: Esos operadores unarios están definidos por métodos especiales: `__pos__` y `__neg__` en este caso)."
      ]
    },
    {
      "cell_type": "code",
      "execution_count": null,
      "metadata": {
        "id": "Il-ambrtXkg0"
      },
      "outputs": [],
      "source": [
        "inside_sphere = -sphere\n",
        "outside_sphere = +sphere"
      ]
    },
    {
      "cell_type": "markdown",
      "metadata": {
        "id": "1RuxBALRXkg0"
      },
      "source": [
        "Ahora veamos si `inside_sphere` en realidad contiene puntos dentro de la esfera:"
      ]
    },
    {
      "cell_type": "code",
      "execution_count": null,
      "metadata": {
        "id": "A4oCBDwHXkg0",
        "colab": {
          "base_uri": "https://localhost:8080/"
        },
        "outputId": "adef538a-6c2a-48e9-fee9-df695cc5fb4a"
      },
      "outputs": [
        {
          "output_type": "stream",
          "name": "stdout",
          "text": [
            "True False\n",
            "False True\n"
          ]
        }
      ],
      "source": [
        "print((0,0,0) in inside_sphere, (0,0,2) in inside_sphere)\n",
        "print((0,0,0) in outside_sphere, (0,0,2) in outside_sphere)"
      ]
    },
    {
      "cell_type": "markdown",
      "metadata": {
        "id": "lRCuWk4HXkg0"
      },
      "source": [
        "\n",
        "\n",
        "¡Todo funciona como se esperaba! Ahora que sabemos cómo crear medios espacios, podemos crear volúmenes más complejos combinando medios espacios con operadores booleanos: `&` (intersección), `|` (unión) y `~` (complemento). Por ejemplo, digamos que queremos definir una región que es la parte superior de la esfera (todos los puntos dentro de la esfera que tienen $z > 0$."
      ]
    },
    {
      "cell_type": "code",
      "execution_count": null,
      "metadata": {
        "id": "0o375rzxXkg0"
      },
      "outputs": [],
      "source": [
        "#EJERCICIO\n",
        "z_plane = openmc.ZPlane(0)\n",
        "northern_hemisphere = -sphere & +z_plane"
      ]
    },
    {
      "cell_type": "markdown",
      "metadata": {
        "id": "axbIs0GqXkg1"
      },
      "source": [
        "Para muchas regiones, OpenMC puede determinar automáticamente un cuadro delimitador. Para obtener el cuadro delimitador, usamos la propiedad `bounding_box` de una región, que devuelve una tupla de las coordenadas cartesianas inferior izquierda y superior derecha para el cuadro delimitador:"
      ]
    },
    {
      "cell_type": "code",
      "execution_count": null,
      "metadata": {
        "id": "3JVYiv8MXkg1",
        "colab": {
          "base_uri": "https://localhost:8080/"
        },
        "outputId": "5c633afe-1a8b-4d62-e742-26584f0e5e21"
      },
      "outputs": [
        {
          "output_type": "execute_result",
          "data": {
            "text/plain": [
              "(array([-1., -1.,  0.]), array([1., 1., 1.]))"
            ]
          },
          "metadata": {},
          "execution_count": 18
        }
      ],
      "source": [
        "northern_hemisphere.bounding_box"
      ]
    },
    {
      "cell_type": "markdown",
      "metadata": {
        "id": "HgKbEkrUXkg1"
      },
      "source": [
        "Los volumenes (semiespacios) serán las regiones de las cell"
      ]
    },
    {
      "cell_type": "code",
      "execution_count": null,
      "metadata": {
        "id": "WJqjnDRHXkg1"
      },
      "outputs": [],
      "source": [
        "cell = openmc.Cell()\n",
        "cell.region = northern_hemisphere\n",
        "\n",
        "# o...\n",
        "cell = openmc.Cell(region=northern_hemisphere)"
      ]
    },
    {
      "cell_type": "markdown",
      "metadata": {
        "id": "DfQaJL1kXkg1"
      },
      "source": [
        "\n",
        "Por defecto, la celda no se rellena con ningún material (vacío). Para asignar un material, establecemos la propiedad `fill` de una `Cell`.\n",
        "\n",
        "\n"
      ]
    },
    {
      "cell_type": "code",
      "execution_count": null,
      "metadata": {
        "id": "KDSZmvrbXkg2"
      },
      "outputs": [],
      "source": [
        "cell.fill = water"
      ]
    },
    {
      "cell_type": "markdown",
      "metadata": {
        "id": "ylsZ2n2HXkg2"
      },
      "source": [
        "### Universes and in-line plotting"
      ]
    },
    {
      "cell_type": "markdown",
      "metadata": {
        "id": "Gk4rU3FIXkg2"
      },
      "source": [
        "Una colección de celdas se conoce como universo y se puede usar como una unidad repetible al crear un modelo. Aunque todavía no lo necesitamos, el beneficio de crear un universo es que podemos visualizar nuestra geometría mientras la creamos."
      ]
    },
    {
      "cell_type": "code",
      "execution_count": null,
      "metadata": {
        "id": "D0vDP9ywXkg2"
      },
      "outputs": [],
      "source": [
        "universe = openmc.Universe()\n",
        "universe.add_cell(cell)\n",
        "\n",
        "# this also works\n",
        "universe = openmc.Universe(cells=[cell])"
      ]
    },
    {
      "cell_type": "code",
      "execution_count": null,
      "metadata": {
        "id": "MDFvNANFXkg2",
        "colab": {
          "base_uri": "https://localhost:8080/",
          "height": 269
        },
        "outputId": "6224d63b-dbe7-4c6d-dd2e-92ddb6d939f2"
      },
      "outputs": [
        {
          "output_type": "execute_result",
          "data": {
            "text/plain": [
              "<matplotlib.image.AxesImage at 0x7f8824741c90>"
            ]
          },
          "metadata": {},
          "execution_count": 22
        },
        {
          "output_type": "display_data",
          "data": {
            "text/plain": [
              "<Figure size 258.065x264.901 with 1 Axes>"
            ],
            "image/png": "[encoded data removed]"
          },
          "metadata": {
            "needs_background": "light"
          }
        }
      ],
      "source": [
        "universe.plot(width=(2.0, 2.0))"
      ]
    },
    {
      "cell_type": "markdown",
      "metadata": {
        "id": "1pR1lpenXkg3"
      },
      "source": [
        "Por defecto, el gráfico aparecerá en el plano $x$-$y$. Podemos cambiar eso con el argumento `basis`."
      ]
    },
    {
      "cell_type": "code",
      "execution_count": null,
      "metadata": {
        "id": "AGeRmJ-AXkg3",
        "colab": {
          "base_uri": "https://localhost:8080/",
          "height": 269
        },
        "outputId": "7cb58da7-419f-496c-bb87-33a0f96221a2"
      },
      "outputs": [
        {
          "output_type": "execute_result",
          "data": {
            "text/plain": [
              "<matplotlib.image.AxesImage at 0x7f882466dcd0>"
            ]
          },
          "metadata": {},
          "execution_count": 23
        },
        {
          "output_type": "display_data",
          "data": {
            "text/plain": [
              "<Figure size 258.065x264.901 with 1 Axes>"
            ],
            "image/png": "[encoded data removed]"
          },
          "metadata": {
            "needs_background": "light"
          }
        }
      ],
      "source": [
        "universe.plot(width=(2.0, 2.0), basis='xz')"
      ]
    },
    {
      "cell_type": "markdown",
      "metadata": {
        "id": "zPFwzwuiXkg3"
      },
      "source": [
        "Si nos gusta especialmente, por ejemplo, el fucsia, podemos indicarle al método `plot()` que haga que nuestra celda tenga ese color."
      ]
    },
    {
      "cell_type": "code",
      "execution_count": null,
      "metadata": {
        "id": "IttSXJeGXkg3",
        "colab": {
          "base_uri": "https://localhost:8080/",
          "height": 269
        },
        "outputId": "1e792449-4dfd-4389-ee99-7f800931ab5c"
      },
      "outputs": [
        {
          "output_type": "execute_result",
          "data": {
            "text/plain": [
              "<matplotlib.image.AxesImage at 0x7f88245eb9d0>"
            ]
          },
          "metadata": {},
          "execution_count": 24
        },
        {
          "output_type": "display_data",
          "data": {
            "text/plain": [
              "<Figure size 258.065x264.901 with 1 Axes>"
            ],
            "image/png": "[encoded data removed]"
          },
          "metadata": {
            "needs_background": "light"
          }
        }
      ],
      "source": [
        "universe.plot(width=(2.0, 2.0), basis='xz',\n",
        "              colors={cell: 'fuchsia'})"
      ]
    },
    {
      "cell_type": "markdown",
      "metadata": {
        "id": "fbPM2NzUXkg3"
      },
      "source": [
        "\n",
        "\n",
        "### Geometría de Pin cell\n",
        "\n",
        "Ahora tenemos suficiente conocimiento para crear nuestro pin-cell. Necesitamos tres superficies para definir el combustible y el revestimiento:\n",
        "\n",
        "1. La superficie exterior del combustible: un cilindro paralelo al eje z\n",
        "2. La superficie interna del revestimiento -- igual que arriba\n",
        "3. La superficie exterior del revestimiento -- igual que arriba\n",
        "\n",
        "Estas tres superficies serán todas instancias de `openmc.ZCylinder`, cada una con un radio diferente según la especificación."
      ]
    },
    {
      "cell_type": "code",
      "execution_count": null,
      "metadata": {
        "id": "uY2-gRAjXkg3"
      },
      "outputs": [],
      "source": [
        "fuel_outer_radius = openmc.ZCylinder(r=0.39)\n",
        "clad_inner_radius = openmc.ZCylinder(r=0.40)\n",
        "clad_outer_radius = openmc.ZCylinder(r=0.46)"
      ]
    },
    {
      "cell_type": "markdown",
      "metadata": {
        "id": "IfRh92L2Xkg3"
      },
      "source": [
        "Con las superficies creadas, ahora podemos aprovechar los operadores incorporados en las superficies para crear regiones para el combustible, el espacio y el revestimiento:"
      ]
    },
    {
      "cell_type": "code",
      "execution_count": null,
      "metadata": {
        "id": "C2p2g5WzXkg4"
      },
      "outputs": [],
      "source": [
        "#EJERCICIO: completar las regiones según lo aprendido anteriormente\n",
        "fuel_region = -fuel_outer_radius\n",
        "gap_region = +fuel_outer_radius & -clad_inner_radius\n",
        "clad_region = +clad_inner_radius & -clad_outer_radius"
      ]
    },
    {
      "cell_type": "markdown",
      "metadata": {
        "id": "dqamdacsXkg4"
      },
      "source": [
        "Ahora podemos crear celdas correspondientes que asignan materiales a estas regiones. Al igual que con los materiales, las celdas tienen ID únicos que se asignan de forma manual o automática. Tenga en cuenta que la celda de separación no tiene ningún material asignado (está anulada de forma predeterminada)."
      ]
    },
    {
      "cell_type": "code",
      "execution_count": null,
      "metadata": {
        "id": "ICcTtn5FXkg4"
      },
      "outputs": [],
      "source": [
        "fuel = openmc.Cell(name='fuel')\n",
        "fuel.fill = uo2\n",
        "fuel.region = fuel_region\n",
        "\n",
        "#EJERCICIO: Cree las celdas faltantes\n",
        "gap = openmc.Cell()\n",
        "gap.region = gap_region\n",
        "\n",
        "clad = openmc.Cell()\n",
        "clad.fill = zirconium\n",
        "clad.region = clad_region"
      ]
    },
    {
      "cell_type": "markdown",
      "metadata": {
        "id": "qKt5_NsxXkg4"
      },
      "source": [
        "Finalmente, debemos manejar el refrigerante fuera de nuestro  combustible. Para hacer esto, creamos planos x e y que delimitan la geometría.\n",
        "\n",
        "A diferencia de otros códigos Monte Carlo (como MCNP), en los que las condiciones de contorno se establecen en forma volumétrica, las condicionces de contorno en OpenMC se establecen sobre superficies con el parámetro `boundary_type=`. El valor por default para este parámetro es `transmission`, que permite que las partículas atraviesen la superficie sin ningún impedimento. Si esta parámetro se coloca en `vacuum`, OpenMC terminará la historia de las partículas que atraviesan la superficie, generando una condición de contorno de corriente entrante nula (esto es, vacío). Si se coloca el parámetro `reflective` la superficie reflejará las partículas que lleguen a ella, generando una condición de contorno reflejada."
      ]
    },
    {
      "cell_type": "code",
      "execution_count": null,
      "metadata": {
        "id": "WtUMJ-q5Xkg4"
      },
      "outputs": [],
      "source": [
        "pitch = 1.26\n",
        "left = openmc.XPlane(-pitch/2, boundary_type='reflective')\n",
        "right = openmc.XPlane(pitch/2, boundary_type='reflective')\n",
        "bottom = openmc.YPlane(-pitch/2, boundary_type='reflective')\n",
        "top = openmc.YPlane(pitch/2, boundary_type='reflective')"
      ]
    },
    {
      "cell_type": "markdown",
      "metadata": {
        "id": "SKNfYe4BXkg4"
      },
      "source": [
        "La región del agua será todo lo que esté fuera del radio exterior del revestimiento y dentro de la caja formada como la intersección de cuatro semiespacios."
      ]
    },
    {
      "cell_type": "code",
      "execution_count": null,
      "metadata": {
        "id": "G7OSySkNXkg4"
      },
      "outputs": [],
      "source": [
        "water_region = +left & -right & +bottom & -top & +clad_outer_radius\n",
        "\n",
        "moderator = openmc.Cell(name='moderator')\n",
        "moderator.fill = water\n",
        "moderator.region = water_region"
      ]
    },
    {
      "cell_type": "markdown",
      "metadata": {
        "id": "nkpamaN8Xkg5"
      },
      "source": [
        "OpenMC también incluye una función de fábrica que genera un prisma rectangular que podría habernos hecho la vida más fácil."
      ]
    },
    {
      "cell_type": "code",
      "execution_count": null,
      "metadata": {
        "id": "sbIL27CBXkg5",
        "colab": {
          "base_uri": "https://localhost:8080/"
        },
        "outputId": "3c967c69-25b8-4f1d-c339-269b4b2710ad"
      },
      "outputs": [
        {
          "output_type": "execute_result",
          "data": {
            "text/plain": [
              "openmc.region.Intersection"
            ]
          },
          "metadata": {},
          "execution_count": 31
        }
      ],
      "source": [
        "box = openmc.rectangular_prism(width=pitch, height=pitch,\n",
        "                               boundary_type='reflective')\n",
        "type(box)"
      ]
    },
    {
      "cell_type": "markdown",
      "metadata": {
        "id": "09OVf-AHXkg5"
      },
      "source": [
        "El objeto que se devolvió NO es una superficie. En realidad, es la intersección de cuatro semiespacios de superficie, tal como lo creamos manualmente antes. Por lo tanto, no necesitamos aplicar el operador unario (`-box`). En su lugar, podemos combinarlo directamente con `+clad_or`."
      ]
    },
    {
      "cell_type": "code",
      "execution_count": null,
      "metadata": {
        "id": "JE5qT59AXkg5"
      },
      "outputs": [],
      "source": [
        "water_region = box & +clad_outer_radius"
      ]
    },
    {
      "cell_type": "markdown",
      "metadata": {
        "id": "75d1uXI4Xkg5"
      },
      "source": [
        "El paso final es asignar las celdas que creamos a un universo y decirle a OpenMC que este universo es el universo \"raíz\" en nuestra geometría. La `Geometría` es el objeto final que realmente se exporta a XML."
      ]
    },
    {
      "cell_type": "code",
      "execution_count": null,
      "metadata": {
        "id": "p5XiihUdXkg6",
        "colab": {
          "base_uri": "https://localhost:8080/",
          "height": 495
        },
        "outputId": "c863fac3-acf0-4fd7-d19f-a57835a7c5c8"
      },
      "outputs": [
        {
          "output_type": "stream",
          "name": "stdout",
          "text": [
            "<?xml version='1.0' encoding='utf-8'?>\n",
            "<geometry>\n",
            "  <cell id=\"3\" material=\"1\" name=\"fuel\" region=\"-3\" universe=\"3\" />\n",
            "  <cell id=\"4\" material=\"void\" region=\"3 -4\" universe=\"3\" />\n",
            "  <cell id=\"5\" material=\"3\" region=\"4 -5\" universe=\"3\" />\n",
            "  <cell id=\"6\" material=\"4\" name=\"moderator\" region=\"6 -7 8 -9 5\" universe=\"3\" />\n",
            "  <surface coeffs=\"0.0 0.0 0.39\" id=\"3\" type=\"z-cylinder\" />\n",
            "  <surface coeffs=\"0.0 0.0 0.4\" id=\"4\" type=\"z-cylinder\" />\n",
            "  <surface coeffs=\"0.0 0.0 0.46\" id=\"5\" type=\"z-cylinder\" />\n",
            "  <surface boundary=\"reflective\" coeffs=\"-0.63\" id=\"6\" type=\"x-plane\" />\n",
            "  <surface boundary=\"reflective\" coeffs=\"0.63\" id=\"7\" type=\"x-plane\" />\n",
            "  <surface boundary=\"reflective\" coeffs=\"-0.63\" id=\"8\" type=\"y-plane\" />\n",
            "  <surface boundary=\"reflective\" coeffs=\"0.63\" id=\"9\" type=\"y-plane\" />\n",
            "</geometry>\n"
          ]
        },
        {
          "output_type": "display_data",
          "data": {
            "text/plain": [
              "<Figure size 258.065x264.901 with 1 Axes>"
            ],
            "image/png": "[encoded data removed]"
          },
          "metadata": {
            "needs_background": "light"
          }
        }
      ],
      "source": [
        "root_universe = openmc.Universe(cells=(fuel, gap, clad, moderator))\n",
        "root_universe.plot(width=(2.0, 2.0), basis='xy')\n",
        "geometry = openmc.Geometry(root_universe)\n",
        "geometry.export_to_xml()\n",
        "!cat geometry.xml"
      ]
    },
    {
      "cell_type": "markdown",
      "metadata": {
        "id": "eIL2YID0Xkg6"
      },
      "source": [
        "\n",
        "## Parámetros de ejecución y fuente\n",
        "\n",
        "La API de Python tiene un módulo `openmc.stats` con varias distribuciones de probabilidad univariadas y multivariadas. Podemos usar estas distribuciones para crear una fuente de inicio usando el objeto `openmc.Source`. Uno puede especificar independientemente la distribución espacial (`espacio`), la distribución angular (`ángulo`), la distribución de energía (`energía`) y la distribución de tiempo (`tiempo`). Para este ejemplo, solo especificaremos la distribución espacial como un solo punto."
      ]
    },
    {
      "cell_type": "code",
      "execution_count": null,
      "metadata": {
        "id": "q2wEn4bSXkg6"
      },
      "outputs": [],
      "source": [
        "# Create a point source\n",
        "point = openmc.stats.Point((0, 0, 0))\n",
        "source = openmc.Source(space=point)"
      ]
    },
    {
      "cell_type": "markdown",
      "metadata": {
        "id": "TGFN7G8CXkg6"
      },
      "source": [
        "Ahora vamos a crear un objeto de configuración y darle la fuente que creamos junto con la especificación de cuántos lotes y partículas queremos ejecutar."
      ]
    },
    {
      "cell_type": "code",
      "execution_count": null,
      "metadata": {
        "id": "C3rgOfUjXkg7"
      },
      "outputs": [],
      "source": [
        "settings = openmc.Settings()\n",
        "settings.source = source\n",
        "settings.batches = 100\n",
        "settings.inactive = 10\n",
        "settings.particles = 1000\n",
        "\n",
        "#EJERCIO cambiar datos y hacer calculos de partículas simuladas"
      ]
    },
    {
      "cell_type": "code",
      "execution_count": null,
      "metadata": {
        "id": "xFv-U1PzXkg7",
        "colab": {
          "base_uri": "https://localhost:8080/"
        },
        "outputId": "3b49df7b-69a0-4b8f-b24a-af83e67edfd1"
      },
      "outputs": [
        {
          "output_type": "stream",
          "name": "stdout",
          "text": [
            "<?xml version='1.0' encoding='utf-8'?>\n",
            "<settings>\n",
            "  <run_mode>eigenvalue</run_mode>\n",
            "  <particles>1000</particles>\n",
            "  <batches>100</batches>\n",
            "  <inactive>10</inactive>\n",
            "  <source strength=\"1.0\">\n",
            "    <space type=\"point\">\n",
            "      <parameters>0 0 0</parameters>\n",
            "    </space>\n",
            "  </source>\n",
            "</settings>\n"
          ]
        }
      ],
      "source": [
        "settings.export_to_xml()\n",
        "!cat settings.xml"
      ]
    },
    {
      "cell_type": "code",
      "source": [
        "openmc.run()"
      ],
      "metadata": {
        "id": "PcsVseks91Ht",
        "colab": {
          "base_uri": "https://localhost:8080/"
        },
        "outputId": "0749068c-33dd-4974-a698-68ec599ee0d9"
      },
      "execution_count": null,
      "outputs": [
        {
          "output_type": "stream",
          "name": "stdout",
          "text": [
            "                                %%%%%%%%%%%%%%%\n",
            "                           %%%%%%%%%%%%%%%%%%%%%%%%\n",
            "                        %%%%%%%%%%%%%%%%%%%%%%%%%%%%%%\n",
            "                      %%%%%%%%%%%%%%%%%%%%%%%%%%%%%%%%%%\n",
            "                    %%%%%%%%%%%%%%%%%%%%%%%%%%%%%%%%%%%%%%\n",
            "                   %%%%%%%%%%%%%%%%%%%%%%%%%%%%%%%%%%%%%%%%\n",
            "                                    %%%%%%%%%%%%%%%%%%%%%%%%\n",
            "                                     %%%%%%%%%%%%%%%%%%%%%%%%\n",
            "                 ###############      %%%%%%%%%%%%%%%%%%%%%%%%\n",
            "                ##################     %%%%%%%%%%%%%%%%%%%%%%%\n",
            "                ###################     %%%%%%%%%%%%%%%%%%%%%%%\n",
            "                ####################     %%%%%%%%%%%%%%%%%%%%%%\n",
            "                #####################     %%%%%%%%%%%%%%%%%%%%%\n",
            "                ######################     %%%%%%%%%%%%%%%%%%%%\n",
            "                #######################     %%%%%%%%%%%%%%%%%%\n",
            "                 #######################     %%%%%%%%%%%%%%%%%\n",
            "                 ######################     %%%%%%%%%%%%%%%%%\n",
            "                  ####################     %%%%%%%%%%%%%%%%%\n",
            "                    #################     %%%%%%%%%%%%%%%%%\n",
            "                     ###############     %%%%%%%%%%%%%%%%\n",
            "                       ############     %%%%%%%%%%%%%%%\n",
            "                          ########     %%%%%%%%%%%%%%\n",
            "                                      %%%%%%%%%%%\n",
            "\n",
            "                 | The OpenMC Monte Carlo Code\n",
            "       Copyright | 2011-2022 MIT, UChicago Argonne LLC, and contributors\n",
            "         License | https://docs.openmc.org/en/latest/license.html\n",
            "         Version | 0.13.1\n",
            "        Git SHA1 | 33bc948f4b855c037975f16d16091fe4ecd12de3\n",
            "       Date/Time | 2022-10-04 14:12:18\n",
            "  OpenMP Threads | 2\n",
            "\n",
            " Reading settings XML file...\n",
            " Reading cross sections XML file...\n",
            " Reading materials XML file...\n",
            " Reading geometry XML file...\n",
            " Reading U235 from /content/endfb71_hdf5/U235.h5\n",
            " Reading U238 from /content/endfb71_hdf5/U238.h5\n",
            " Reading O16 from /content/endfb71_hdf5/O16.h5\n",
            " Reading Zr90 from /content/endfb71_hdf5/Zr90.h5\n",
            " Reading Zr91 from /content/endfb71_hdf5/Zr91.h5\n",
            " Reading Zr92 from /content/endfb71_hdf5/Zr92.h5\n",
            " Reading Zr94 from /content/endfb71_hdf5/Zr94.h5\n",
            " Reading Zr96 from /content/endfb71_hdf5/Zr96.h5\n",
            " Reading H1 from /content/endfb71_hdf5/H1.h5\n",
            " Reading c_H_in_H2O from /content/endfb71_hdf5/c_H_in_H2O.h5\n",
            " Minimum neutron data temperature: 294 K\n",
            " Maximum neutron data temperature: 294 K\n",
            " Preparing distributed cell instances...\n",
            " Reading plot XML file...\n",
            " Writing summary.h5 file...\n",
            " Maximum neutron transport energy: 20000000 eV for U235\n",
            " Initializing source particles...\n",
            "\n",
            " ====================>     K EIGENVALUE SIMULATION     <====================\n",
            "\n",
            "  Bat./Gen.      k            Average k\n",
            "  =========   ========   ====================\n",
            "        1/1    1.39195\n",
            "        2/1    1.38329\n",
            "        3/1    1.35622\n",
            "        4/1    1.41502\n",
            "        5/1    1.34093\n",
            "        6/1    1.36912\n",
            "        7/1    1.36782\n",
            "        8/1    1.43330\n",
            "        9/1    1.38770\n",
            "       10/1    1.30416\n",
            "       11/1    1.45542\n",
            "       12/1    1.35663    1.40603 +/- 0.04939\n",
            "       13/1    1.33857    1.38354 +/- 0.03632\n",
            "       14/1    1.45621    1.40171 +/- 0.03146\n",
            "       15/1    1.37754    1.39687 +/- 0.02484\n",
            "       16/1    1.29722    1.38027 +/- 0.02622\n",
            "       17/1    1.40681    1.38406 +/- 0.02248\n",
            "       18/1    1.34286    1.37891 +/- 0.02014\n",
            "       19/1    1.18912    1.35782 +/- 0.02757\n",
            "       20/1    1.31087    1.35313 +/- 0.02510\n",
            "       21/1    1.28784    1.34719 +/- 0.02347\n",
            "       22/1    1.39030    1.35078 +/- 0.02172\n",
            "       23/1    1.36074    1.35155 +/- 0.02000\n",
            "       24/1    1.39213    1.35445 +/- 0.01874\n",
            "       25/1    1.28483    1.34981 +/- 0.01805\n",
            "       26/1    1.26332    1.34440 +/- 0.01773\n",
            "       27/1    1.38453    1.34676 +/- 0.01682\n",
            "       28/1    1.40659    1.35009 +/- 0.01620\n",
            "       29/1    1.38379    1.35186 +/- 0.01543\n",
            "       30/1    1.34421    1.35148 +/- 0.01464\n",
            "       31/1    1.31056    1.34953 +/- 0.01406\n",
            "       32/1    1.33373    1.34881 +/- 0.01343\n",
            "       33/1    1.36244    1.34940 +/- 0.01284\n",
            "       34/1    1.26577    1.34592 +/- 0.01278\n",
            "       35/1    1.34246    1.34578 +/- 0.01226\n",
            "       36/1    1.38505    1.34729 +/- 0.01188\n",
            "       37/1    1.27575    1.34464 +/- 0.01173\n",
            "       38/1    1.41665    1.34721 +/- 0.01159\n",
            "       39/1    1.39364    1.34881 +/- 0.01130\n",
            "       40/1    1.34250    1.34860 +/- 0.01092\n",
            "       41/1    1.41037    1.35060 +/- 0.01075\n",
            "       42/1    1.39470    1.35197 +/- 0.01050\n",
            "       43/1    1.35475    1.35206 +/- 0.01017\n",
            "       44/1    1.42906    1.35432 +/- 0.01013\n",
            "       45/1    1.36432    1.35461 +/- 0.00984\n",
            "       46/1    1.38228    1.35538 +/- 0.00959\n",
            "       47/1    1.37029    1.35578 +/- 0.00934\n",
            "       48/1    1.40019    1.35695 +/- 0.00916\n",
            "       49/1    1.29439    1.35534 +/- 0.00907\n",
            "       50/1    1.37160    1.35575 +/- 0.00885\n",
            "       51/1    1.27059    1.35367 +/- 0.00888\n",
            "       52/1    1.35833    1.35378 +/- 0.00866\n",
            "       53/1    1.33006    1.35323 +/- 0.00848\n",
            "       54/1    1.33288    1.35277 +/- 0.00829\n",
            "       55/1    1.39637    1.35374 +/- 0.00817\n",
            "       56/1    1.32918    1.35321 +/- 0.00800\n",
            "       57/1    1.33588    1.35284 +/- 0.00784\n",
            "       58/1    1.41334    1.35410 +/- 0.00778\n",
            "       59/1    1.31195    1.35324 +/- 0.00767\n",
            "       60/1    1.30852    1.35234 +/- 0.00756\n",
            "       61/1    1.37068    1.35270 +/- 0.00742\n",
            "       62/1    1.37714    1.35317 +/- 0.00729\n",
            "       63/1    1.38258    1.35373 +/- 0.00718\n",
            "       64/1    1.35907    1.35383 +/- 0.00704\n",
            "       65/1    1.26816    1.35227 +/- 0.00709\n",
            "       66/1    1.37225    1.35263 +/- 0.00697\n",
            "       67/1    1.35977    1.35275 +/- 0.00685\n",
            "       68/1    1.33478    1.35244 +/- 0.00673\n",
            "       69/1    1.46123    1.35428 +/- 0.00687\n",
            "       70/1    1.34714    1.35417 +/- 0.00676\n",
            "       71/1    1.35676    1.35421 +/- 0.00665\n",
            "       72/1    1.36070    1.35431 +/- 0.00654\n",
            "       73/1    1.27566    1.35306 +/- 0.00655\n",
            "       74/1    1.31157    1.35242 +/- 0.00648\n",
            "       75/1    1.37201    1.35272 +/- 0.00639\n",
            "       76/1    1.36397    1.35289 +/- 0.00629\n",
            "       77/1    1.33968    1.35269 +/- 0.00620\n",
            "       78/1    1.23584    1.35097 +/- 0.00635\n",
            "       79/1    1.48222    1.35287 +/- 0.00654\n",
            "       80/1    1.36027    1.35298 +/- 0.00644\n",
            "       81/1    1.38009    1.35336 +/- 0.00636\n",
            "       82/1    1.36371    1.35351 +/- 0.00628\n",
            "       83/1    1.35783    1.35357 +/- 0.00619\n",
            "       84/1    1.29418    1.35276 +/- 0.00616\n",
            "       85/1    1.34407    1.35265 +/- 0.00608\n",
            "       86/1    1.40116    1.35329 +/- 0.00603\n",
            "       87/1    1.35894    1.35336 +/- 0.00595\n",
            "       88/1    1.35501    1.35338 +/- 0.00588\n",
            "       89/1    1.30475    1.35276 +/- 0.00583\n",
            "       90/1    1.34782    1.35270 +/- 0.00576\n",
            "       91/1    1.36779    1.35289 +/- 0.00569\n",
            "       92/1    1.33845    1.35271 +/- 0.00563\n",
            "       93/1    1.35888    1.35279 +/- 0.00556\n",
            "       94/1    1.31870    1.35238 +/- 0.00551\n",
            "       95/1    1.34232    1.35226 +/- 0.00544\n",
            "       96/1    1.33445    1.35206 +/- 0.00538\n",
            "       97/1    1.36129    1.35216 +/- 0.00532\n",
            "       98/1    1.43038    1.35305 +/- 0.00533\n",
            "       99/1    1.35869    1.35311 +/- 0.00528\n",
            "      100/1    1.35822    1.35317 +/- 0.00522\n",
            " Creating state point statepoint.100.h5...\n",
            "\n",
            " =======================>     TIMING STATISTICS     <=======================\n",
            "\n",
            " Total time for initialization     = 1.8373e+00 seconds\n",
            "   Reading cross sections          = 1.8105e+00 seconds\n",
            " Total time in simulation          = 9.4808e+00 seconds\n",
            "   Time in transport only          = 9.3618e+00 seconds\n",
            "   Time in inactive batches        = 9.6760e-01 seconds\n",
            "   Time in active batches          = 8.5133e+00 seconds\n",
            "   Time synchronizing fission bank = 1.6539e-02 seconds\n",
            "     Sampling source sites         = 1.4386e-02 seconds\n",
            "     SEND/RECV source sites        = 2.0657e-03 seconds\n",
            "   Time accumulating tallies       = 1.7513e-04 seconds\n",
            "   Time writing statepoints        = 7.0494e-03 seconds\n",
            " Total time for finalization       = 4.4080e-06 seconds\n",
            " Total time elapsed                = 1.1337e+01 seconds\n",
            " Calculation Rate (inactive)       = 10334.9 particles/second\n",
            " Calculation Rate (active)         = 10571.8 particles/second\n",
            "\n",
            " ============================>     RESULTS     <============================\n",
            "\n",
            " k-effective (Collision)     = 1.35389 +/- 0.00424\n",
            " k-effective (Track-length)  = 1.35317 +/- 0.00522\n",
            " k-effective (Absorption)    = 1.34916 +/- 0.00371\n",
            " Combined k-effective        = 1.35095 +/- 0.00316\n",
            " Leakage Fraction            = 0.00000 +/- 0.00000\n",
            "\n"
          ]
        }
      ]
    },
    {
      "cell_type": "markdown",
      "source": [
        "# Para hacer la vida más fácil"
      ],
      "metadata": {
        "id": "LixN1nKJ-I7E"
      }
    },
    {
      "cell_type": "markdown",
      "metadata": {
        "id": "40WUEkk0Xkg9"
      },
      "source": [
        "## Clase `Model`\n",
        "\n",
        "Hasta ahora, hemos visto que para crear y simular un modelo, teníamos que crear una instancia de `Geometry`, `Materials` y `Settings` y llamar al método `export_to_xml` en cada uno de ellos. OpenMC también proporciona una clase `Model` que agrega estas clases y proporciona un único método `export_to_xml` que exportará todos los archivos."
      ]
    },
    {
      "cell_type": "code",
      "execution_count": null,
      "metadata": {
        "id": "6wER2P5eXkg9"
      },
      "outputs": [],
      "source": [
        "# Combine the three classes into a single model\n",
        "model = openmc.Model()\n",
        "model.geometry = geometry\n",
        "model.materials = materials\n",
        "model.settings = settings\n",
        "\n",
        "# Export all at once\n",
        "model.export_to_xml()"
      ]
    },
    {
      "cell_type": "markdown",
      "metadata": {
        "id": "oEPSyb_-Xkg9"
      },
      "source": [
        "La clase `Model` también tiene un método `run` que exportará archivos XML *y* ejecutará una simulación, devolviendo el nombre del último archivo de punto de estado que se escribió:"
      ]
    },
    {
      "cell_type": "code",
      "execution_count": null,
      "metadata": {
        "id": "BDf-prpvXkg9",
        "colab": {
          "base_uri": "https://localhost:8080/"
        },
        "outputId": "f72c1d6e-6f8d-4998-eb73-a5001eccbec9"
      },
      "outputs": [
        {
          "output_type": "stream",
          "name": "stdout",
          "text": [
            "                                %%%%%%%%%%%%%%%\n",
            "                           %%%%%%%%%%%%%%%%%%%%%%%%\n",
            "                        %%%%%%%%%%%%%%%%%%%%%%%%%%%%%%\n",
            "                      %%%%%%%%%%%%%%%%%%%%%%%%%%%%%%%%%%\n",
            "                    %%%%%%%%%%%%%%%%%%%%%%%%%%%%%%%%%%%%%%\n",
            "                   %%%%%%%%%%%%%%%%%%%%%%%%%%%%%%%%%%%%%%%%\n",
            "                                    %%%%%%%%%%%%%%%%%%%%%%%%\n",
            "                                     %%%%%%%%%%%%%%%%%%%%%%%%\n",
            "                 ###############      %%%%%%%%%%%%%%%%%%%%%%%%\n",
            "                ##################     %%%%%%%%%%%%%%%%%%%%%%%\n",
            "                ###################     %%%%%%%%%%%%%%%%%%%%%%%\n",
            "                ####################     %%%%%%%%%%%%%%%%%%%%%%\n",
            "                #####################     %%%%%%%%%%%%%%%%%%%%%\n",
            "                ######################     %%%%%%%%%%%%%%%%%%%%\n",
            "                #######################     %%%%%%%%%%%%%%%%%%\n",
            "                 #######################     %%%%%%%%%%%%%%%%%\n",
            "                 ######################     %%%%%%%%%%%%%%%%%\n",
            "                  ####################     %%%%%%%%%%%%%%%%%\n",
            "                    #################     %%%%%%%%%%%%%%%%%\n",
            "                     ###############     %%%%%%%%%%%%%%%%\n",
            "                       ############     %%%%%%%%%%%%%%%\n",
            "                          ########     %%%%%%%%%%%%%%\n",
            "                                      %%%%%%%%%%%\n",
            "\n",
            "                 | The OpenMC Monte Carlo Code\n",
            "       Copyright | 2011-2022 MIT, UChicago Argonne LLC, and contributors\n",
            "         License | https://docs.openmc.org/en/latest/license.html\n",
            "         Version | 0.13.1\n",
            "        Git SHA1 | 33bc948f4b855c037975f16d16091fe4ecd12de3\n",
            "       Date/Time | 2022-10-04 14:13:04\n",
            "  OpenMP Threads | 2\n",
            "\n",
            " Reading settings XML file...\n",
            " Reading cross sections XML file...\n",
            " Reading materials XML file...\n",
            " Reading geometry XML file...\n",
            " Reading U235 from /content/endfb71_hdf5/U235.h5\n",
            " Reading U238 from /content/endfb71_hdf5/U238.h5\n",
            " Reading O16 from /content/endfb71_hdf5/O16.h5\n",
            " Reading Zr90 from /content/endfb71_hdf5/Zr90.h5\n",
            " Reading Zr91 from /content/endfb71_hdf5/Zr91.h5\n",
            " Reading Zr92 from /content/endfb71_hdf5/Zr92.h5\n",
            " Reading Zr94 from /content/endfb71_hdf5/Zr94.h5\n",
            " Reading Zr96 from /content/endfb71_hdf5/Zr96.h5\n",
            " Reading H1 from /content/endfb71_hdf5/H1.h5\n",
            " Reading c_H_in_H2O from /content/endfb71_hdf5/c_H_in_H2O.h5\n",
            " Minimum neutron data temperature: 294 K\n",
            " Maximum neutron data temperature: 294 K\n",
            " Preparing distributed cell instances...\n",
            " Reading plot XML file...\n",
            " Writing summary.h5 file...\n",
            " Maximum neutron transport energy: 20000000 eV for U235\n",
            " Initializing source particles...\n",
            "\n",
            " ====================>     K EIGENVALUE SIMULATION     <====================\n",
            "\n",
            "  Bat./Gen.      k            Average k\n",
            "  =========   ========   ====================\n",
            "        1/1    1.39195\n",
            "        2/1    1.38329\n",
            "        3/1    1.35622\n",
            "        4/1    1.41502\n",
            "        5/1    1.34093\n",
            "        6/1    1.36912\n",
            "        7/1    1.36782\n",
            "        8/1    1.43330\n",
            "        9/1    1.38770\n",
            "       10/1    1.30416\n",
            "       11/1    1.45542\n",
            "       12/1    1.35663    1.40603 +/- 0.04939\n",
            "       13/1    1.33857    1.38354 +/- 0.03632\n",
            "       14/1    1.45621    1.40171 +/- 0.03146\n",
            "       15/1    1.37754    1.39687 +/- 0.02484\n",
            "       16/1    1.29722    1.38027 +/- 0.02622\n",
            "       17/1    1.40681    1.38406 +/- 0.02248\n",
            "       18/1    1.34286    1.37891 +/- 0.02014\n",
            "       19/1    1.18912    1.35782 +/- 0.02757\n",
            "       20/1    1.31087    1.35313 +/- 0.02510\n",
            "       21/1    1.28784    1.34719 +/- 0.02347\n",
            "       22/1    1.39030    1.35078 +/- 0.02172\n",
            "       23/1    1.36074    1.35155 +/- 0.02000\n",
            "       24/1    1.39213    1.35445 +/- 0.01874\n",
            "       25/1    1.28483    1.34981 +/- 0.01805\n",
            "       26/1    1.26332    1.34440 +/- 0.01773\n",
            "       27/1    1.38453    1.34676 +/- 0.01682\n",
            "       28/1    1.40659    1.35009 +/- 0.01620\n",
            "       29/1    1.38379    1.35186 +/- 0.01543\n",
            "       30/1    1.34421    1.35148 +/- 0.01464\n",
            "       31/1    1.31056    1.34953 +/- 0.01406\n",
            "       32/1    1.33373    1.34881 +/- 0.01343\n",
            "       33/1    1.36244    1.34940 +/- 0.01284\n",
            "       34/1    1.26577    1.34592 +/- 0.01278\n",
            "       35/1    1.34246    1.34578 +/- 0.01226\n",
            "       36/1    1.38505    1.34729 +/- 0.01188\n",
            "       37/1    1.27575    1.34464 +/- 0.01173\n",
            "       38/1    1.41665    1.34721 +/- 0.01159\n",
            "       39/1    1.39364    1.34881 +/- 0.01130\n",
            "       40/1    1.34250    1.34860 +/- 0.01092\n",
            "       41/1    1.41037    1.35060 +/- 0.01075\n",
            "       42/1    1.39470    1.35197 +/- 0.01050\n",
            "       43/1    1.35475    1.35206 +/- 0.01017\n",
            "       44/1    1.42906    1.35432 +/- 0.01013\n",
            "       45/1    1.36432    1.35461 +/- 0.00984\n",
            "       46/1    1.38228    1.35538 +/- 0.00959\n",
            "       47/1    1.37029    1.35578 +/- 0.00934\n",
            "       48/1    1.40019    1.35695 +/- 0.00916\n",
            "       49/1    1.29439    1.35534 +/- 0.00907\n",
            "       50/1    1.37160    1.35575 +/- 0.00885\n",
            "       51/1    1.27059    1.35367 +/- 0.00888\n",
            "       52/1    1.35833    1.35378 +/- 0.00866\n",
            "       53/1    1.33006    1.35323 +/- 0.00848\n",
            "       54/1    1.33288    1.35277 +/- 0.00829\n",
            "       55/1    1.39637    1.35374 +/- 0.00817\n",
            "       56/1    1.32918    1.35321 +/- 0.00800\n",
            "       57/1    1.33588    1.35284 +/- 0.00784\n",
            "       58/1    1.41334    1.35410 +/- 0.00778\n",
            "       59/1    1.31195    1.35324 +/- 0.00767\n",
            "       60/1    1.30852    1.35234 +/- 0.00756\n",
            "       61/1    1.37068    1.35270 +/- 0.00742\n",
            "       62/1    1.37714    1.35317 +/- 0.00729\n",
            "       63/1    1.38258    1.35373 +/- 0.00718\n",
            "       64/1    1.35907    1.35383 +/- 0.00704\n",
            "       65/1    1.26816    1.35227 +/- 0.00709\n",
            "       66/1    1.37225    1.35263 +/- 0.00697\n",
            "       67/1    1.35977    1.35275 +/- 0.00685\n",
            "       68/1    1.33478    1.35244 +/- 0.00673\n",
            "       69/1    1.46123    1.35428 +/- 0.00687\n",
            "       70/1    1.34714    1.35417 +/- 0.00676\n",
            "       71/1    1.35676    1.35421 +/- 0.00665\n",
            "       72/1    1.36070    1.35431 +/- 0.00654\n",
            "       73/1    1.27566    1.35306 +/- 0.00655\n",
            "       74/1    1.31157    1.35242 +/- 0.00648\n",
            "       75/1    1.37201    1.35272 +/- 0.00639\n",
            "       76/1    1.36397    1.35289 +/- 0.00629\n",
            "       77/1    1.33968    1.35269 +/- 0.00620\n",
            "       78/1    1.23584    1.35097 +/- 0.00635\n",
            "       79/1    1.48222    1.35287 +/- 0.00654\n",
            "       80/1    1.36027    1.35298 +/- 0.00644\n",
            "       81/1    1.38009    1.35336 +/- 0.00636\n",
            "       82/1    1.36371    1.35351 +/- 0.00628\n",
            "       83/1    1.35783    1.35357 +/- 0.00619\n",
            "       84/1    1.29418    1.35276 +/- 0.00616\n",
            "       85/1    1.34407    1.35265 +/- 0.00608\n",
            "       86/1    1.40116    1.35329 +/- 0.00603\n",
            "       87/1    1.35894    1.35336 +/- 0.00595\n",
            "       88/1    1.35501    1.35338 +/- 0.00588\n",
            "       89/1    1.30475    1.35276 +/- 0.00583\n",
            "       90/1    1.34782    1.35270 +/- 0.00576\n",
            "       91/1    1.36779    1.35289 +/- 0.00569\n",
            "       92/1    1.33845    1.35271 +/- 0.00563\n",
            "       93/1    1.35888    1.35279 +/- 0.00556\n",
            "       94/1    1.31870    1.35238 +/- 0.00551\n",
            "       95/1    1.34232    1.35226 +/- 0.00544\n",
            "       96/1    1.33445    1.35206 +/- 0.00538\n",
            "       97/1    1.36129    1.35216 +/- 0.00532\n",
            "       98/1    1.43038    1.35305 +/- 0.00533\n",
            "       99/1    1.35869    1.35311 +/- 0.00528\n",
            "      100/1    1.35822    1.35317 +/- 0.00522\n",
            " Creating state point statepoint.100.h5...\n",
            "\n",
            " =======================>     TIMING STATISTICS     <=======================\n",
            "\n",
            " Total time for initialization     = 1.1430e+00 seconds\n",
            "   Reading cross sections          = 1.1133e+00 seconds\n",
            " Total time in simulation          = 8.2712e+00 seconds\n",
            "   Time in transport only          = 8.1572e+00 seconds\n",
            "   Time in inactive batches        = 8.8045e-01 seconds\n",
            "   Time in active batches          = 7.3907e+00 seconds\n",
            "   Time synchronizing fission bank = 1.5075e-02 seconds\n",
            "     Sampling source sites         = 1.3241e-02 seconds\n",
            "     SEND/RECV source sites        = 1.7669e-03 seconds\n",
            "   Time accumulating tallies       = 1.3564e-04 seconds\n",
            "   Time writing statepoints        = 5.9729e-03 seconds\n",
            " Total time for finalization       = 3.1740e-06 seconds\n",
            " Total time elapsed                = 9.4290e+00 seconds\n",
            " Calculation Rate (inactive)       = 11357.8 particles/second\n",
            " Calculation Rate (active)         = 12177.5 particles/second\n",
            "\n",
            " ============================>     RESULTS     <============================\n",
            "\n",
            " k-effective (Collision)     = 1.35389 +/- 0.00424\n",
            " k-effective (Track-length)  = 1.35317 +/- 0.00522\n",
            " k-effective (Absorption)    = 1.34916 +/- 0.00371\n",
            " Combined k-effective        = 1.35095 +/- 0.00316\n",
            " Leakage Fraction            = 0.00000 +/- 0.00000\n",
            "\n"
          ]
        },
        {
          "output_type": "execute_result",
          "data": {
            "text/plain": [
              "PosixPath('/content/statepoint.100.h5')"
            ]
          },
          "metadata": {},
          "execution_count": 39
        }
      ],
      "source": [
        "model.run()"
      ]
    },
    {
      "cell_type": "markdown",
      "metadata": {
        "id": "87d52f49-f915-4ef9-8174-dff4e4abc4c3"
      },
      "source": [
        "# OpenMC Tallies"
      ]
    },
    {
      "cell_type": "markdown",
      "metadata": {
        "id": "bb1c4298-3506-4350-a690-d96a30a157e4"
      },
      "source": [
        "Un conteo (tallie) acumula información estadística durante la simulación sobre partículas cuando entran en regiones del espacio de fase especificado. Los límites de estas regiones se establecen mediante filtros."
      ]
    },
    {
      "cell_type": "markdown",
      "metadata": {
        "id": "42c30480-d8c6-4ccf-b735-f72ca9cbeef1"
      },
      "source": [
        "Cualquier Tallie en OpenMC se puede describir con la siguiente forma:\n",
        "\n",
        "$$\n",
        "  X = \\underbrace{\\int d\\mathbf{r} \\int d\\mathbf{\\Omega} \\int\n",
        "     dE}_{\\text{filtros}} \\underbrace{f(\\mathbf{r}, \\mathbf{\\Omega},\n",
        "     E)}_{\\text{scores}} \\psi (\\mathbf{r}, \\mathbf{\\Omega}, E)\n",
        "$$\n",
        "\n",
        "donde los filtros establecen los límites de las integrales y la función de puntuación (score) se convoluciona con información de partículas (por ejemplo, tipo de reacción, material actual, etc.)."
      ]
    },
    {
      "cell_type": "markdown",
      "source": [
        "Los filtros son utilizados para determinar la región del espacio de fase donde se contarán los eventos del tally. Existen muchos filtros (la lista completa [está en el manual](https://openmc.readthedocs.io/en/stable/pythonapi/base.html#pythonapi-tallies)). Los principales son:\n",
        "\n",
        "* `CellFilter()`: cuenta los eventos que ocurren en una determinada celda.\n",
        "* `EnergyFilter()`: cuenta los eventos en un determinado rango de energía.\n",
        "* `MeshFilter()`: cuenta eventos que ocurren en una determinada grill cartesiano."
      ],
      "metadata": {
        "id": "QuImw_8Vit-K"
      }
    },
    {
      "cell_type": "markdown",
      "source": [
        "El score define qué se va a contar en cada evento. Algunos de los más importantes son:\n",
        "* `flux`: flujo escalar.\n",
        "* `current`: corriente en una superficie o en una malla.\n",
        "* `absorption`: ritmo de absorciones (flujo pesado por la sección eficaz de absorción).\n",
        "* `elastic`: ritmo de scattering.\n",
        "* `fission`: ritmo de fisiones.\n",
        "* `total`: ritmo de reacción total.\n",
        "* `(n,gamma)`: ritmo de captura radiativa\n",
        "\n",
        "<div class=\"alert alert-block alert-info\">\n",
        "Lista oficial de scores<a href=https://docs.openmc.org/en/stable/usersguide/tallies.html#scores >here</a>.\n",
        "</div>"
      ],
      "metadata": {
        "id": "ZKMtZi1Yi2Bp"
      }
    },
    {
      "cell_type": "markdown",
      "metadata": {
        "id": "31f3c102-bbdf-4b64-a7a3-7188aa97333a"
      },
      "source": [
        "## Pincell Model\n",
        " La siguiente función genera un modelo pincell PWR 2-D con condiciones de contorno reflectantes en los planos X-Y. Esta función proporciona un objeto `openmc.Model`, que une materiales, geometría, conteos y configuraciones en un solo objeto de Python con una descripción completa del problema."
      ]
    },
    {
      "cell_type": "code",
      "execution_count": null,
      "metadata": {
        "id": "951705d5-4db5-4c27-9595-4b87c31d1fc1",
        "colab": {
          "base_uri": "https://localhost:8080/",
          "height": 265
        },
        "outputId": "e862c0d0-861a-4b5d-9784-983c69ab3070"
      },
      "outputs": [
        {
          "output_type": "execute_result",
          "data": {
            "text/plain": [
              "<matplotlib.image.AxesImage at 0x7f882450e0d0>"
            ]
          },
          "metadata": {},
          "execution_count": 40
        },
        {
          "output_type": "display_data",
          "data": {
            "text/plain": [
              "<Figure size 258.065x264.901 with 1 Axes>"
            ],
            "image/png": "[encoded data removed]"
          },
          "metadata": {
            "needs_background": "light"
          }
        }
      ],
      "source": [
        "pincell_model = openmc.examples.pwr_pin_cell()\n",
        "pincell_model.geometry.root_universe.plot()"
      ]
    },
    {
      "cell_type": "markdown",
      "metadata": {
        "id": "e189175b-e2d5-46a8-91da-efccbdfcd396"
      },
      "source": [
        "Para tener una mejor idea de cómo se ve este modelo, comenzaremos generando un gráfico y examinando los materiales utilizados."
      ]
    },
    {
      "cell_type": "code",
      "execution_count": null,
      "metadata": {
        "id": "cc51643c-87bc-43d4-a74e-4d864b108473",
        "colab": {
          "base_uri": "https://localhost:8080/"
        },
        "outputId": "7ff6d4f2-a5d0-4b47-d3d4-bfb955a44dce"
      },
      "outputs": [
        {
          "output_type": "execute_result",
          "data": {
            "text/plain": [
              "OrderedDict([(5, Material\n",
              "              \tID             =\t5\n",
              "              \tName           =\tUO2 (2.4%)\n",
              "              \tTemperature    =\tNone\n",
              "              \tDensity        =\t10.29769 [g/cm3]\n",
              "              \tS(a,b) Tables  \n",
              "              \tNuclides       \n",
              "              \tU234           =\t4.4843e-06   [ao]\n",
              "              \tU235           =\t0.00055815   [ao]\n",
              "              \tU238           =\t0.022408     [ao]\n",
              "              \tO16            =\t0.045829     [ao]), (6, Material\n",
              "              \tID             =\t6\n",
              "              \tName           =\tZircaloy\n",
              "              \tTemperature    =\tNone\n",
              "              \tDensity        =\t6.55 [g/cm3]\n",
              "              \tS(a,b) Tables  \n",
              "              \tNuclides       \n",
              "              \tZr90           =\t0.021827     [ao]\n",
              "              \tZr91           =\t0.00476      [ao]\n",
              "              \tZr92           =\t0.0072758    [ao]\n",
              "              \tZr94           =\t0.0073734    [ao]\n",
              "              \tZr96           =\t0.0011879    [ao]), (7, Material\n",
              "              \tID             =\t7\n",
              "              \tName           =\tHot borated water\n",
              "              \tTemperature    =\tNone\n",
              "              \tDensity        =\t0.740582 [g/cm3]\n",
              "              \tS(a,b) Tables  \n",
              "              \tS(a,b)         =\t('c_H_in_H2O', 1.0)\n",
              "              \tNuclides       \n",
              "              \tH1             =\t0.049457     [ao]\n",
              "              \tO16            =\t0.024672     [ao]\n",
              "              \tB10            =\t8.0042e-06   [ao]\n",
              "              \tB11            =\t3.2218e-05   [ao])])"
            ]
          },
          "metadata": {},
          "execution_count": 41
        }
      ],
      "source": [
        "pincell_model.geometry.get_all_materials()"
      ]
    },
    {
      "cell_type": "markdown",
      "metadata": {
        "id": "da00ed28-db4a-4cd6-b611-d041a4817716"
      },
      "source": [
        "Observar que tallies hay hasta ahora"
      ]
    },
    {
      "cell_type": "code",
      "execution_count": null,
      "metadata": {
        "id": "4da56f67-e5cc-4cfe-aec6-3d08dd67a99e",
        "colab": {
          "base_uri": "https://localhost:8080/"
        },
        "outputId": "0cc8a5bd-5131-4a20-96de-b7f6b37070d3"
      },
      "outputs": [
        {
          "output_type": "execute_result",
          "data": {
            "text/plain": [
              "[]"
            ]
          },
          "metadata": {},
          "execution_count": 42
        }
      ],
      "source": [
        "pincell_model.tallies"
      ]
    },
    {
      "cell_type": "markdown",
      "metadata": {
        "id": "7b73d0d7-51d6-4c1d-8c44-e4848cc08ab3"
      },
      "source": [
        "En este ejercicio agregaremos registros para realizar algunas tareas diferentes:\n",
        "\n",
        "\n",
        "   **1. Determinar la energía y el calor producidos por fisión** \\\n",
        "   **2. Trazar el espectro de flujo del pincell** \\\n",
        "   **3. Trazar los tipos de reacción según el material** (Por cuestiones de tiempo sólo se realizará este ejercico, sin embargo se recomienda estudiar los otros dos de manera individual)\n",
        "  \n",
        "Para hacer esto, usaremos una variedad de filtros diferentes aplicados a diferentes conteos."
      ]
    },
    {
      "cell_type": "markdown",
      "metadata": {
        "id": "ef4698fe-3681-4708-bf70-d3112bdf0d1f"
      },
      "source": [
        "Primero, para determinar la energía recuperable producida por fisión, crearemos un recuento sin filtros para recopilar información sobre la tasa de reacción de fisión (\"`fisión`\") y la energía de fisión recuperable (\"`kappa-fission`\"). Debido a que queremos que esta información se registre en todo el modelo, un recuento \"global\", no es necesario aplicar filtros.\n",
        "\n"
      ]
    },
    {
      "cell_type": "markdown",
      "metadata": {
        "id": "2be29691-17a2-411d-a235-aa79c4ef0b21"
      },
      "source": []
    },
    {
      "cell_type": "markdown",
      "metadata": {
        "id": "15966abd-127d-4608-a732-0f5d7ecbcc6e"
      },
      "source": [
        "## Tarea 1: Energía liberada por fisión"
      ]
    },
    {
      "cell_type": "code",
      "execution_count": null,
      "metadata": {
        "id": "edfd4a42-4fcf-4191-94ae-00890d0e45b6"
      },
      "outputs": [],
      "source": [
        "fission_tally = openmc.Tally()\n",
        "fission_tally.scores = ['fission', 'kappa-fission']\n",
        "print(fission_tally)"
      ]
    },
    {
      "cell_type": "markdown",
      "metadata": {
        "id": "8badc7e8-42a7-473a-8da8-8c0e386a1aeb"
      },
      "source": [
        "Similar al objeto `openmc.Materials`, el objeto `openmc.Tallies` es una subclase de la `lista` integrada de Python y se utiliza para recopilar registros para aplicarlos al modelo."
      ]
    },
    {
      "cell_type": "code",
      "execution_count": null,
      "metadata": {
        "id": "418f543a-5705-483a-ac0b-0e66fd76a6cf"
      },
      "outputs": [],
      "source": [
        "pincell_model.tallies = openmc.Tallies([fission_tally])"
      ]
    },
    {
      "cell_type": "markdown",
      "metadata": {
        "id": "6f7f618b-0406-49be-a6ad-13ed784e05c0"
      },
      "source": [
        "\n",
        "Después de ajustar la configuración predeterminada para la cantidad de partículas y lotes en el modelo, lo ejecutaremos y examinaremos los datos."
      ]
    },
    {
      "cell_type": "code",
      "execution_count": null,
      "metadata": {
        "id": "ae72a8ed-8680-431d-b51a-3df11d3960aa"
      },
      "outputs": [],
      "source": [
        "pincell_model.settings.batches = 50\n",
        "pincell_model.settings.inactive = 10\n",
        "pincell_model.settings.particles = 10000\n",
        "statepoint = pincell_model.run()"
      ]
    },
    {
      "cell_type": "markdown",
      "metadata": {
        "id": "038ed849-0495-4fa4-9f85-51c9683d8526"
      },
      "source": [
        "Si enumeramos nuestro directorio actual, vemos que se han creado varios archivos nuevos como resultado de esta ejecución: `summary.h5`, `tallies.out` y `statepoint.50.h5`. El archivo de resumen contiene información sobre la configuración de la simulación (geometría, materiales, mallas, etc.) en formato HDF5. El archivo `tallies.out` contiene una salida de texto de todas las cuentas especificadas por el usuario para la simulación."
      ]
    },
    {
      "cell_type": "code",
      "execution_count": null,
      "metadata": {
        "id": "b4a6d2aa-148c-4217-9682-c56758093d00"
      },
      "outputs": [],
      "source": [
        "!cat tallies.out"
      ]
    },
    {
      "cell_type": "markdown",
      "metadata": {
        "id": "37c313ed-71d9-40cf-8e6b-ab4bd337d518"
      },
      "source": [
        "El archivo statepoint contiene información sobre los resultados de la simulación, incluidas las especificaciones y los datos de conteo. La ubicación de este archivo statepoint nos la proporcionó el comando pincell_model.run()."
      ]
    },
    {
      "cell_type": "code",
      "execution_count": null,
      "metadata": {
        "id": "c76b62d6-af9c-4204-b219-91a4b1fdc61b"
      },
      "outputs": [],
      "source": [
        "!ls\n",
        "print(f'Statepoint: {statepoint}')"
      ]
    },
    {
      "cell_type": "markdown",
      "metadata": {
        "id": "99eed91b-5e91-4320-8e7a-51c68c28f4a6"
      },
      "source": [
        "Para extraer información del archivo statepoint crearemos un objeto `openmc.StatePoint`. La función `statepoint.get_tally` buscará recuentos por puntajes, filtros, nucleidos, identificadores y devolverá la coincidencia más cercana. También se pueden especificar coincidencias exactas."
      ]
    },
    {
      "cell_type": "code",
      "execution_count": null,
      "metadata": {
        "tags": [],
        "id": "687cd96d-6035-4f01-b493-e42f0834fff3"
      },
      "outputs": [],
      "source": [
        "with openmc.StatePoint('statepoint.50.h5') as sp:\n",
        "    tally_by_scores = sp.get_tally(scores=['fission', 'kappa-fission'])\n",
        "    tally_by_id = sp.get_tally(id=fission_tally.id)"
      ]
    },
    {
      "cell_type": "markdown",
      "metadata": {
        "id": "de12a615-a9d1-4917-a80b-c75a1226797f"
      },
      "source": [
        "Si mostramos los objetos de conteo devueltos, vemos que de hecho coinciden con la especificación de conteo que generamos anteriormente."
      ]
    },
    {
      "cell_type": "code",
      "execution_count": null,
      "metadata": {
        "id": "4338ff09-ac43-4896-bef6-9d0bdee19145"
      },
      "outputs": [],
      "source": [
        "print(tally_by_scores)\n",
        "print(tally_by_id)\n",
        "# shorten variable name f\n",
        "tally = tally_by_id"
      ]
    },
    {
      "cell_type": "markdown",
      "metadata": {
        "id": "eade3a16-86ce-4717-a0ef-c403e9bce2fe"
      },
      "source": [
        "Para calcular la energía liberada por evento de fisión, simplemente podemos tomar la energía contabilizada liberada por fisión y dividirla por la tasa de fisión."
      ]
    },
    {
      "cell_type": "code",
      "execution_count": null,
      "metadata": {
        "id": "bd52f720-0905-49c6-937a-20920d178fe1"
      },
      "outputs": [],
      "source": [
        "#Cuando se usa get_values te da la media, seria lo mismo que poner .mean\n",
        "fission_rate = tally.get_values(scores=['fission']).flatten()[0]\n",
        "kappa_fission = tally.get_values(scores=['kappa-fission']).flatten()[0]\n",
        "ev_per_fission = kappa_fission / fission_rate\n",
        "mev_per_fission = ev_per_fission * 1e-6\n",
        "print(fission_rate)\n",
        "print(f'MeV per fission: {mev_per_fission:.2f}')"
      ]
    },
    {
      "cell_type": "markdown",
      "metadata": {
        "id": "ccb90061-c037-4fb6-ad1d-25056f679813"
      },
      "source": [
        "Para un reactor de agua con U235 como único isótopo en fisión, esto es lo que cabría esperar: ¡~193,4 MeV!\n",
        "\n",
        "  Como ocurre con la mayoría de los valores que salen de un código MC, estos valores son por partícula de origen. En este caso, estas unidades se anulan, pero este no será el caso en nuestro siguiente ejemplo."
      ]
    },
    {
      "cell_type": "markdown",
      "metadata": {
        "id": "0fa947ba-b916-4f6e-bad1-c2d7e8f72da6"
      },
      "source": [
        "## Tarea 2: GRaficar el espesctro de flujo\n"
      ]
    },
    {
      "cell_type": "markdown",
      "metadata": {
        "id": "09db31d5-08c6-49d3-be36-97db7ef98cd1"
      },
      "source": [
        "Para realizar esta tarea, estaremos aplicando un conteo con un filtro de energía. El módulo de datos de OpenMC contiene diferentes estructuras de grupos. Para este problema usaremos la estructura de grupos CASMO-70. Se puede crear fácilmente un filtro de energía a partir de una estructura de grupo predefinida en OpenMC de la siguiente manera:"
      ]
    },
    {
      "cell_type": "code",
      "execution_count": null,
      "metadata": {
        "id": "a9aaae47-c6b5-42e0-8be5-a1fdf84180c2",
        "outputId": "6a4db5ff-e0b0-4918-e3df-a631ea35f128",
        "colab": {
          "base_uri": "https://localhost:8080/"
        }
      },
      "outputs": [
        {
          "output_type": "execute_result",
          "data": {
            "text/plain": [
              "70"
            ]
          },
          "metadata": {},
          "execution_count": 15
        }
      ],
      "source": [
        "#https://docs.openmc.org/en/latest/pythonapi/mgxs.html\n",
        "energy_filter = openmc.EnergyFilter(openmc.mgxs.GROUP_STRUCTURES['CASMO-70'])\n",
        "len(energy_filter.bins)"
      ]
    },
    {
      "cell_type": "code",
      "execution_count": null,
      "metadata": {
        "id": "5f7b3f68-19d6-4928-962a-ce7032a38c14"
      },
      "outputs": [],
      "source": [
        "#Ejercicio\n",
        "spectrum_tally = openmc.Tally()\n",
        "spectrum_tally.filters = [energy_filter]\n",
        "spectrum_tally.scores = ['flux']\n",
        "print(spectrum_tally)"
      ]
    },
    {
      "cell_type": "code",
      "execution_count": null,
      "metadata": {
        "id": "8e8e5be2-3055-4027-9ee2-e9eb19fccaa2"
      },
      "outputs": [],
      "source": [
        "pincell_model.tallies = [spectrum_tally]\n",
        "statepoint = pincell_model.run()"
      ]
    },
    {
      "cell_type": "code",
      "execution_count": null,
      "metadata": {
        "id": "00fb7c45-1e73-44e7-8f3f-0dee18cb381e"
      },
      "outputs": [],
      "source": [
        "#Ejercicio\n",
        "with openmc.StatePoint('statepoint.50.h5') as sp:\n",
        "    tally = sp.get_tally(id=spectrum_tally.id)\n",
        "    #las dos que siguen son ej opcionales\n",
        "    sp.get_tally(scores=['flux'])\n",
        "    sp.get_tally(filters=spectrum_tally.filters)"
      ]
    },
    {
      "cell_type": "code",
      "execution_count": null,
      "metadata": {
        "id": "0f754d3d-fce3-43d7-bae1-36a3a700962c"
      },
      "outputs": [],
      "source": [
        "spectrum = tally.mean\n",
        "print(spectrum.shape)\n",
        "print(spectrum)"
      ]
    },
    {
      "cell_type": "code",
      "execution_count": null,
      "metadata": {
        "id": "90a02970-3251-4713-a3ff-85cd14a71c8e"
      },
      "outputs": [],
      "source": [
        "plt.figure(figsize=(16, 9))\n",
        "#unique es e numpy, se excluye la ultima entrada\n",
        "plt.step(np.unique(energy_filter.bins)[:-1], spectrum.flatten())\n",
        "plt.xscale('log')\n",
        "plt.rcParams['text.usetex'] = False\n",
        "plt.xlabel(r'Energy (eV)')\n",
        "plt.ylabel(r'Flux ($\\frac{particle-cm}{source-particle}$)')\n",
        "plt.show()"
      ]
    },
    {
      "cell_type": "markdown",
      "metadata": {
        "id": "79d7963e-cc07-4df4-8299-0871f327da9f"
      },
      "source": [
        "## Normalizar"
      ]
    },
    {
      "cell_type": "markdown",
      "metadata": {
        "id": "c2283976-8e63-4f88-a65c-40c8a041db47"
      },
      "source": [
        "Tenga en cuenta que las unidades de flujo en el gráfico anterior están en $\\frac{particle-cm}{source-particle}$. Como es el caso con muchos valores contados por los códigos de Monte Carlo, el valor del flujo no tiene en cuenta el volumen y es en términos de la cantidad de partículas fuente emitidas. Para generar este mismo gráfico en términos de unidades de flujo absolutas ($\\frac{particle}{cm^{2}-s}$) necesitaremos normalizar esta cuenta de la siguiente manera:\n",
        "\n",
        "   - el volumen de la región que cubre el tallie\n",
        "   - el número de partículas fuente emitidas\n",
        "\n",
        "En este caso, el volumen de la región es el volumen de todo el pincell. Debido a que estamos trabajando con un modelo 2-D, obtendremos unidades que nos dan el flujo por unidad de longitud del pincell en la dirección axial. Para simplificar, supondremos que nuestro pincell tiene 1 cm de altura para hacer la vida más fácil. El objeto de geometría de OpenMC permite el cálculo de un cuadro delimitador para geometrías como esta que ayudará a que esto sea más sencillo."
      ]
    },
    {
      "cell_type": "code",
      "execution_count": null,
      "metadata": {
        "id": "db2002fd-7734-4b10-b2e7-bcf26c29805b"
      },
      "outputs": [],
      "source": [
        "# get bounding box\n",
        "lower_left, upper_right = pincell_model.geometry.bounding_box\n",
        "print(lower_left, upper_right)\n",
        "lower_left[-1] = 0.0\n",
        "upper_right[-1] = 1.0\n",
        "# compute volume\n",
        "volume = np.prod(upper_right - lower_left)\n",
        "print(volume)"
      ]
    },
    {
      "cell_type": "markdown",
      "metadata": {
        "id": "6de0b475-9fb5-42da-987c-f13c7182f1e6"
      },
      "source": [
        "Sin embargo, determinar el número de partículas fuente por segundo es más complicado. Esto significa calcular el número de neutrones de fisión generados por segundo en el modelo. Para obtener este valor, necesitaremos la siguiente información:\n",
        "\n",
        "   1. la potencia total producida en la región de conteo (conocida a priori, usaremos )\n",
        "   2. el calor producido por la energía de fisión\n",
        "   3. la tasa de fisión\n",
        "   4. el número medio de neutrones producidos por fisión\n",
        "  \n",
        "  Para obtener esta información, necesitaremos construir otro Tally para obtener información adicional de la simulación."
      ]
    },
    {
      "cell_type": "code",
      "execution_count": null,
      "metadata": {
        "id": "38246dd3-b34a-4058-a516-ea25f502169f"
      },
      "outputs": [],
      "source": [
        "pincell_power = 60.0e3 / 300 # in Watts\n",
        "source_tally = openmc.Tally()\n",
        "source_tally.scores = ['heating-local', 'nu-fission']\n",
        "pincell_model.tallies = [source_tally]\n",
        "pincell_model.export_to_xml()"
      ]
    },
    {
      "cell_type": "code",
      "execution_count": null,
      "metadata": {
        "id": "cec60994-b188-4fc4-9a3d-3b4a3f208e28"
      },
      "outputs": [],
      "source": [
        "sp_file = pincell_model.run()"
      ]
    },
    {
      "cell_type": "code",
      "execution_count": null,
      "metadata": {
        "id": "cba5a3fc-1941-49bb-9c35-8a314d114bad"
      },
      "outputs": [],
      "source": [
        "with openmc.StatePoint(sp_file) as sp:\n",
        "    source_tally_out = sp.get_tally(id=source_tally.id)\n",
        "    heating = source_tally_out.get_values(scores=['heating-local']).flatten()[0]\n",
        "    nu_fission = source_tally_out.get_values(scores=['nu-fission']).flatten()[0]"
      ]
    },
    {
      "cell_type": "markdown",
      "metadata": {
        "id": "d625313e-f4e7-41d9-a07e-795e57f47686"
      },
      "source": [
        "Así serí la combinación de Tallies en este caso:\n",
        "\n",
        "\n",
        "$$ \\text{neutron source} [\\frac{n}{s}] = \\text{power} [\\frac{J}{s}] \\times \\frac{1}{1.6\\times 10^{-19}} [\\frac{eV}{J}] \\times \\frac{1}{\\text{heat per fission} [\\frac{eV}{fission}]} \\times \\text{neutrons per fission} [\\frac{n}{fission}]$$"
      ]
    },
    {
      "cell_type": "code",
      "execution_count": null,
      "metadata": {
        "id": "b90636e8-b154-4ba9-98f9-08c644077920"
      },
      "outputs": [],
      "source": [
        "heat_per_fission = heating / fission_rate\n",
        "J_to_eV = 1 / 1.6e-19\n",
        "neutron_source = pincell_power * J_to_eV * (1 / heat_per_fission) * nu_fission\n",
        "print(f'Neutron source: {neutron_source:.2e} n/s')"
      ]
    },
    {
      "cell_type": "code",
      "execution_count": null,
      "metadata": {
        "id": "b55565bb-736e-4f98-a4dc-5accedba6ca8"
      },
      "outputs": [],
      "source": [
        "normalized_spectrum = neutron_source * spectrum.flatten() / volume"
      ]
    },
    {
      "cell_type": "code",
      "execution_count": null,
      "metadata": {
        "id": "408bf824-47ef-4413-b2b8-778615cc75f6"
      },
      "outputs": [],
      "source": [
        "plt.figure(figsize=(16, 9))\n",
        "plt.step(np.unique(energy_filter.bins)[:-1], normalized_spectrum)\n",
        "plt.xscale('log')\n",
        "#plt.rcParams['text.usetex'] = False\n",
        "plt.xlabel(r'Energy (eV)')\n",
        "plt.ylabel(r'Flux ($\\frac{particle}{cm^{-2} s}$)')\n",
        "plt.show()"
      ]
    },
    {
      "cell_type": "code",
      "execution_count": null,
      "metadata": {
        "id": "cf0bd00a-4f7d-4be1-b626-99ac1603108f"
      },
      "outputs": [],
      "source": [
        "plt.figure(figsize=(16, 9))\n",
        "#esa diferencia da la resta entre los valores asi el resultado no se ve afectado\n",
        "yu=np.diff(np.unique(energy_filter.bins))\n",
        "plt.step(np.unique(energy_filter.bins)[:-1], normalized_spectrum/yu)\n",
        "plt.xscale('log')\n",
        "#plt.rcParams['text.usetex'] = False\n",
        "plt.xlabel(r'Energy (eV)')\n",
        "plt.ylabel(r'Flux ($\\frac{particle}{cm^{-2} s}$)')\n",
        "plt.show()"
      ]
    },
    {
      "cell_type": "markdown",
      "metadata": {
        "id": "00c2f4af-3370-4f4d-9d1b-4b7278bc55e0"
      },
      "source": [
        "## Tarea 3: Reacción según el material"
      ]
    },
    {
      "cell_type": "markdown",
      "metadata": {
        "id": "2889624c-c7bb-4224-b2cb-e13204da10f1"
      },
      "source": [
        "Observar los diferentes tipos de reacción por material"
      ]
    },
    {
      "cell_type": "code",
      "execution_count": null,
      "metadata": {
        "id": "7a8b416a-4183-4266-880a-fb32f85d6508"
      },
      "outputs": [],
      "source": [
        "material_filter = openmc.MaterialFilter(pincell_model.materials)"
      ]
    },
    {
      "cell_type": "code",
      "execution_count": null,
      "metadata": {
        "id": "e7a1e5b4-1851-4042-80da-cfbd7df66dca"
      },
      "outputs": [],
      "source": [
        "material_tally = openmc.Tally()\n",
        "material_tally.filters = [material_filter]\n",
        "material_tally.scores = ['absorption', 'scatter', 'fission']"
      ]
    },
    {
      "cell_type": "code",
      "execution_count": null,
      "metadata": {
        "id": "15c27cc5-0dd8-48d9-8115-08f57c4447c0"
      },
      "outputs": [],
      "source": [
        "pincell_model.tallies = [material_tally]"
      ]
    },
    {
      "cell_type": "code",
      "execution_count": null,
      "metadata": {
        "id": "49b068fc-9bdc-4bdc-9567-5f55ec16bf7d",
        "colab": {
          "base_uri": "https://localhost:8080/",
          "height": 1000
        },
        "outputId": "5cecd0e8-0b1b-4c63-80b5-8eb139681007"
      },
      "outputs": [
        {
          "output_type": "stream",
          "name": "stdout",
          "text": [
            "                                %%%%%%%%%%%%%%%\n",
            "                           %%%%%%%%%%%%%%%%%%%%%%%%\n",
            "                        %%%%%%%%%%%%%%%%%%%%%%%%%%%%%%\n",
            "                      %%%%%%%%%%%%%%%%%%%%%%%%%%%%%%%%%%\n",
            "                    %%%%%%%%%%%%%%%%%%%%%%%%%%%%%%%%%%%%%%\n",
            "                   %%%%%%%%%%%%%%%%%%%%%%%%%%%%%%%%%%%%%%%%\n",
            "                                    %%%%%%%%%%%%%%%%%%%%%%%%\n",
            "                                     %%%%%%%%%%%%%%%%%%%%%%%%\n",
            "                 ###############      %%%%%%%%%%%%%%%%%%%%%%%%\n",
            "                ##################     %%%%%%%%%%%%%%%%%%%%%%%\n",
            "                ###################     %%%%%%%%%%%%%%%%%%%%%%%\n",
            "                ####################     %%%%%%%%%%%%%%%%%%%%%%\n",
            "                #####################     %%%%%%%%%%%%%%%%%%%%%\n",
            "                ######################     %%%%%%%%%%%%%%%%%%%%\n",
            "                #######################     %%%%%%%%%%%%%%%%%%\n",
            "                 #######################     %%%%%%%%%%%%%%%%%\n",
            "                 ######################     %%%%%%%%%%%%%%%%%\n",
            "                  ####################     %%%%%%%%%%%%%%%%%\n",
            "                    #################     %%%%%%%%%%%%%%%%%\n",
            "                     ###############     %%%%%%%%%%%%%%%%\n",
            "                       ############     %%%%%%%%%%%%%%%\n",
            "                          ########     %%%%%%%%%%%%%%\n",
            "                                      %%%%%%%%%%%\n",
            "\n",
            "                 | The OpenMC Monte Carlo Code\n",
            "       Copyright | 2011-2022 MIT, UChicago Argonne LLC, and contributors\n",
            "         License | https://docs.openmc.org/en/latest/license.html\n",
            "         Version | 0.13.1\n",
            "        Git SHA1 | 33bc948f4b855c037975f16d16091fe4ecd12de3\n",
            "       Date/Time | 2022-10-04 14:18:26\n",
            "  OpenMP Threads | 2\n",
            "\n",
            " Reading settings XML file...\n",
            " Reading cross sections XML file...\n",
            " Reading materials XML file...\n",
            " Reading geometry XML file...\n",
            " Reading U234 from /content/endfb71_hdf5/U234.h5\n",
            " Reading U235 from /content/endfb71_hdf5/U235.h5\n",
            " Reading U238 from /content/endfb71_hdf5/U238.h5\n",
            " Reading O16 from /content/endfb71_hdf5/O16.h5\n",
            " Reading Zr90 from /content/endfb71_hdf5/Zr90.h5\n",
            " Reading Zr91 from /content/endfb71_hdf5/Zr91.h5\n",
            " Reading Zr92 from /content/endfb71_hdf5/Zr92.h5\n",
            " Reading Zr94 from /content/endfb71_hdf5/Zr94.h5\n",
            " Reading Zr96 from /content/endfb71_hdf5/Zr96.h5\n",
            " Reading H1 from /content/endfb71_hdf5/H1.h5\n",
            " Reading B10 from /content/endfb71_hdf5/B10.h5\n",
            " Reading B11 from /content/endfb71_hdf5/B11.h5\n",
            " Reading c_H_in_H2O from /content/endfb71_hdf5/c_H_in_H2O.h5\n",
            " Minimum neutron data temperature: 294 K\n",
            " Maximum neutron data temperature: 294 K\n",
            " Reading tallies XML file...\n",
            " Preparing distributed cell instances...\n",
            " Reading plot XML file...\n",
            " Writing summary.h5 file...\n",
            " Maximum neutron transport energy: 20000000 eV for U235\n",
            " Initializing source particles...\n",
            "\n",
            " ====================>     K EIGENVALUE SIMULATION     <====================\n",
            "\n",
            "  Bat./Gen.      k            Average k\n",
            "  =========   ========   ====================\n",
            "        1/1    1.27651\n",
            "        2/1    1.12045\n",
            "        3/1    0.93914\n",
            "        4/1    1.06389\n",
            "        5/1    1.63266\n",
            "        6/1    1.21073\n",
            "        7/1    1.12097    1.16585 +/- 0.04488\n",
            "        8/1    1.37040    1.23404 +/- 0.07294\n",
            "        9/1    1.17884    1.22024 +/- 0.05339\n",
            "       10/1    1.05200    1.18659 +/- 0.05331\n",
            " Creating state point statepoint.10.h5...\n",
            "\n",
            " =======================>     TIMING STATISTICS     <=======================\n",
            "\n",
            " Total time for initialization     = 1.6050e+00 seconds\n",
            "   Reading cross sections          = 1.5794e+00 seconds\n",
            " Total time in simulation          = 1.4269e-01 seconds\n",
            "   Time in transport only          = 1.3041e-01 seconds\n",
            "   Time in inactive batches        = 7.8367e-02 seconds\n",
            "   Time in active batches          = 6.4322e-02 seconds\n",
            "   Time synchronizing fission bank = 1.6348e-04 seconds\n",
            "     Sampling source sites         = 1.3006e-04 seconds\n",
            "     SEND/RECV source sites        = 2.8084e-05 seconds\n",
            "   Time accumulating tallies       = 5.8851e-03 seconds\n",
            "   Time writing statepoints        = 5.5373e-03 seconds\n",
            " Total time for finalization       = 2.2723e-04 seconds\n",
            " Total time elapsed                = 1.7637e+00 seconds\n",
            " Calculation Rate (inactive)       = 6380.22 particles/second\n",
            " Calculation Rate (active)         = 7773.41 particles/second\n",
            "\n",
            " ============================>     RESULTS     <============================\n",
            "\n",
            " k-effective (Collision)     = 1.22752 +/- 0.04402\n",
            " k-effective (Track-length)  = 1.18659 +/- 0.05331\n",
            " k-effective (Absorption)    = 1.18161 +/- 0.01584\n",
            " Combined k-effective        = 1.18836 +/- 0.02188\n",
            " Leakage Fraction            = 0.00000 +/- 0.00000\n",
            "\n"
          ]
        },
        {
          "output_type": "execute_result",
          "data": {
            "text/plain": [
              "PosixPath('/content/statepoint.10.h5')"
            ]
          },
          "metadata": {},
          "execution_count": 46
        },
        {
          "output_type": "display_data",
          "data": {
            "text/plain": [
              "<Figure size 258.065x264.901 with 1 Axes>"
            ],
            "image/png": "[encoded data removed]"
          },
          "metadata": {
            "needs_background": "light"
          }
        }
      ],
      "source": [
        "pincell_model.geometry.root_universe.plot()\n",
        "pincell_model.run()"
      ]
    },
    {
      "cell_type": "markdown",
      "metadata": {
        "id": "a26a49e4-8d30-4362-b897-6c6263e5592a"
      },
      "source": [
        "Ahora recopilaremos información del archivo statepoint sobre cada puntaje que aplicamos al conteo. Con múltiples puntajes y materiales, usaremos un marco de datos de Pandas para ver los resultados de una manera más coherente."
      ]
    },
    {
      "cell_type": "code",
      "execution_count": null,
      "metadata": {
        "id": "a191ffb7-5349-4522-bc0f-8a6405295606"
      },
      "outputs": [],
      "source": [
        "with openmc.StatePoint('statepoint.10.h5') as sp:\n",
        "    tally = list(sp.tallies.values())[0]\n",
        "    absorption = tally.get_values(scores=['absorption']).flatten()\n",
        "    scatter = tally.get_values(scores=['scatter']).flatten()\n",
        "    fission = tally.get_values(scores=['fission']).flatten()\n",
        "    df = tally.get_pandas_dataframe()"
      ]
    },
    {
      "cell_type": "markdown",
      "metadata": {
        "id": "0fa5d495-d3ac-46bf-aabe-2aa5c6ac72c7"
      },
      "source": [
        "Cada score tiene tres valores, uno para cada material del modelo."
      ]
    },
    {
      "cell_type": "code",
      "execution_count": null,
      "metadata": {
        "id": "7c1ebec5-aa76-484c-9470-c06018eb2b07",
        "colab": {
          "base_uri": "https://localhost:8080/",
          "height": 332
        },
        "outputId": "13cbcbea-a223-4f6d-8f03-562fab072f4e"
      },
      "outputs": [
        {
          "output_type": "execute_result",
          "data": {
            "text/plain": [
              "   material nuclide       score     mean  std. dev.\n",
              "0         5   total  absorption 8.58e-01   4.25e-02\n",
              "1         5   total     scatter 5.45e+00   1.46e-01\n",
              "2         5   total     fission 4.82e-01   2.23e-02\n",
              "3         6   total  absorption 1.14e-02   5.07e-04\n",
              "4         6   total     scatter 1.54e+00   3.55e-02\n",
              "5         6   total     fission 0.00e+00   0.00e+00\n",
              "6         7   total  absorption 1.57e-01   9.14e-03\n",
              "7         7   total     scatter 2.38e+01   5.56e-01\n",
              "8         7   total     fission 0.00e+00   0.00e+00"
            ],
            "text/html": [
              "\n",
              "  <div id=\"df-5b61ba0a-993c-403e-a62f-bc736c2e09b7\">\n",
              "    <div class=\"colab-df-container\">\n",
              "      <div>\n",
              "<style scoped>\n",
              "    .dataframe tbody tr th:only-of-type {\n",
              "        vertical-align: middle;\n",
              "    }\n",
              "\n",
              "    .dataframe tbody tr th {\n",
              "        vertical-align: top;\n",
              "    }\n",
              "\n",
              "    .dataframe thead th {\n",
              "        text-align: right;\n",
              "    }\n",
              "</style>\n",
              "<table border=\"1\" class=\"dataframe\">\n",
              "  <thead>\n",
              "    <tr style=\"text-align: right;\">\n",
              "      <th></th>\n",
              "      <th>material</th>\n",
              "      <th>nuclide</th>\n",
              "      <th>score</th>\n",
              "      <th>mean</th>\n",
              "      <th>std. dev.</th>\n",
              "    </tr>\n",
              "  </thead>\n",
              "  <tbody>\n",
              "    <tr>\n",
              "      <th>0</th>\n",
              "      <td>5</td>\n",
              "      <td>total</td>\n",
              "      <td>absorption</td>\n",
              "      <td>0.858384</td>\n",
              "      <td>0.042483</td>\n",
              "    </tr>\n",
              "    <tr>\n",
              "      <th>1</th>\n",
              "      <td>5</td>\n",
              "      <td>total</td>\n",
              "      <td>scatter</td>\n",
              "      <td>5.454460</td>\n",
              "      <td>0.146132</td>\n",
              "    </tr>\n",
              "    <tr>\n",
              "      <th>2</th>\n",
              "      <td>5</td>\n",
              "      <td>total</td>\n",
              "      <td>fission</td>\n",
              "      <td>0.482122</td>\n",
              "      <td>0.022348</td>\n",
              "    </tr>\n",
              "    <tr>\n",
              "      <th>3</th>\n",
              "      <td>6</td>\n",
              "      <td>total</td>\n",
              "      <td>absorption</td>\n",
              "      <td>0.011401</td>\n",
              "      <td>0.000507</td>\n",
              "    </tr>\n",
              "    <tr>\n",
              "      <th>4</th>\n",
              "      <td>6</td>\n",
              "      <td>total</td>\n",
              "      <td>scatter</td>\n",
              "      <td>1.543061</td>\n",
              "      <td>0.035501</td>\n",
              "    </tr>\n",
              "    <tr>\n",
              "      <th>5</th>\n",
              "      <td>6</td>\n",
              "      <td>total</td>\n",
              "      <td>fission</td>\n",
              "      <td>0.000000</td>\n",
              "      <td>0.000000</td>\n",
              "    </tr>\n",
              "    <tr>\n",
              "      <th>6</th>\n",
              "      <td>7</td>\n",
              "      <td>total</td>\n",
              "      <td>absorption</td>\n",
              "      <td>0.156630</td>\n",
              "      <td>0.009135</td>\n",
              "    </tr>\n",
              "    <tr>\n",
              "      <th>7</th>\n",
              "      <td>7</td>\n",
              "      <td>total</td>\n",
              "      <td>scatter</td>\n",
              "      <td>23.766952</td>\n",
              "      <td>0.556440</td>\n",
              "    </tr>\n",
              "    <tr>\n",
              "      <th>8</th>\n",
              "      <td>7</td>\n",
              "      <td>total</td>\n",
              "      <td>fission</td>\n",
              "      <td>0.000000</td>\n",
              "      <td>0.000000</td>\n",
              "    </tr>\n",
              "  </tbody>\n",
              "</table>\n",
              "</div>\n",
              "      <button class=\"colab-df-convert\" onclick=\"convertToInteractive('df-5b61ba0a-993c-403e-a62f-bc736c2e09b7')\"\n",
              "              title=\"Convert this dataframe to an interactive table.\"\n",
              "              style=\"display:none;\">\n",
              "        \n",
              "  <svg xmlns=\"http://www.w3.org/2000/svg\" height=\"24px\"viewBox=\"0 0 24 24\"\n",
              "       width=\"24px\">\n",
              "    <path d=\"M0 0h24v24H0V0z\" fill=\"none\"/>\n",
              "    <path d=\"M18.56 5.44l.94 2.06.94-2.06 2.06-.94-2.06-.94-.94-2.06-.94 2.06-2.06.94zm-11 1L8.5 8.5l.94-2.06 2.06-.94-2.06-.94L8.5 2.5l-.94 2.06-2.06.94zm10 10l.94 2.06.94-2.06 2.06-.94-2.06-.94-.94-2.06-.94 2.06-2.06.94z\"/><path d=\"M17.41 7.96l-1.37-1.37c-.4-.4-.92-.59-1.43-.59-.52 0-1.04.2-1.43.59L10.3 9.45l-7.72 7.72c-.78.78-.78 2.05 0 2.83L4 21.41c.39.39.9.59 1.41.59.51 0 1.02-.2 1.41-.59l7.78-7.78 2.81-2.81c.8-.78.8-2.07 0-2.86zM5.41 20L4 18.59l7.72-7.72 1.47 1.35L5.41 20z\"/>\n",
              "  </svg>\n",
              "      </button>\n",
              "      \n",
              "  <style>\n",
              "    .colab-df-container {\n",
              "      display:flex;\n",
              "      flex-wrap:wrap;\n",
              "      gap: 12px;\n",
              "    }\n",
              "\n",
              "    .colab-df-convert {\n",
              "      background-color: #E8F0FE;\n",
              "      border: none;\n",
              "      border-radius: 50%;\n",
              "      cursor: pointer;\n",
              "      display: none;\n",
              "      fill: #1967D2;\n",
              "      height: 32px;\n",
              "      padding: 0 0 0 0;\n",
              "      width: 32px;\n",
              "    }\n",
              "\n",
              "    .colab-df-convert:hover {\n",
              "      background-color: #E2EBFA;\n",
              "      box-shadow: 0px 1px 2px rgba(60, 64, 67, 0.3), 0px 1px 3px 1px rgba(60, 64, 67, 0.15);\n",
              "      fill: #174EA6;\n",
              "    }\n",
              "\n",
              "    [theme=dark] .colab-df-convert {\n",
              "      background-color: #3B4455;\n",
              "      fill: #D2E3FC;\n",
              "    }\n",
              "\n",
              "    [theme=dark] .colab-df-convert:hover {\n",
              "      background-color: #434B5C;\n",
              "      box-shadow: 0px 1px 3px 1px rgba(0, 0, 0, 0.15);\n",
              "      filter: drop-shadow(0px 1px 2px rgba(0, 0, 0, 0.3));\n",
              "      fill: #FFFFFF;\n",
              "    }\n",
              "  </style>\n",
              "\n",
              "      <script>\n",
              "        const buttonEl =\n",
              "          document.querySelector('#df-5b61ba0a-993c-403e-a62f-bc736c2e09b7 button.colab-df-convert');\n",
              "        buttonEl.style.display =\n",
              "          google.colab.kernel.accessAllowed ? 'block' : 'none';\n",
              "\n",
              "        async function convertToInteractive(key) {\n",
              "          const element = document.querySelector('#df-5b61ba0a-993c-403e-a62f-bc736c2e09b7');\n",
              "          const dataTable =\n",
              "            await google.colab.kernel.invokeFunction('convertToInteractive',\n",
              "                                                     [key], {});\n",
              "          if (!dataTable) return;\n",
              "\n",
              "          const docLinkHtml = 'Like what you see? Visit the ' +\n",
              "            '<a target=\"_blank\" href=https://colab.research.google.com/notebooks/data_table.ipynb>data table notebook</a>'\n",
              "            + ' to learn more about interactive tables.';\n",
              "          element.innerHTML = '';\n",
              "          dataTable['output_type'] = 'display_data';\n",
              "          await google.colab.output.renderOutput(dataTable, element);\n",
              "          const docLink = document.createElement('div');\n",
              "          docLink.innerHTML = docLinkHtml;\n",
              "          element.appendChild(docLink);\n",
              "        }\n",
              "      </script>\n",
              "    </div>\n",
              "  </div>\n",
              "  "
            ]
          },
          "metadata": {},
          "execution_count": 48
        }
      ],
      "source": [
        "df"
      ]
    },
    {
      "cell_type": "markdown",
      "metadata": {
        "id": "44e26c58-107f-4a37-a170-534a410459aa"
      },
      "source": [
        "Primero, agregaremos una nueva columna al marco de datos con resultados normalizados."
      ]
    },
    {
      "cell_type": "code",
      "execution_count": null,
      "metadata": {
        "id": "06f78164-f9c4-41f4-8070-535656e0f66e"
      },
      "outputs": [],
      "source": [
        "#la variable neutron source fue calculada previamente en la sección de normalizació de Tallies, para facilitar la ejecución de este ejercicio se define en esta celda como una constante\n",
        "neutron_source = 7.28e+12\n",
        "df['normalized-mean'] = neutron_source * df['mean']"
      ]
    },
    {
      "cell_type": "markdown",
      "metadata": {
        "id": "4104a62e-7039-4acb-b6d9-19513611ed23"
      },
      "source": [
        "Agregaremos una nueva entrada en el marco de datos para nuestros nombres de materiales para facilitar el trazado."
      ]
    },
    {
      "cell_type": "code",
      "execution_count": null,
      "metadata": {
        "id": "65f57455-efee-4fc5-b8af-67b4c6ebff89",
        "colab": {
          "base_uri": "https://localhost:8080/",
          "height": 332
        },
        "outputId": "b5d234ee-df7d-4ea3-fa55-655eb1228ba3"
      },
      "outputs": [
        {
          "output_type": "execute_result",
          "data": {
            "text/plain": [
              "   material nuclide       score     mean  std. dev.  normalized-mean  \\\n",
              "0         5   total  absorption 8.58e-01   4.25e-02         6.25e+12   \n",
              "1         5   total     scatter 5.45e+00   1.46e-01         3.97e+13   \n",
              "2         5   total     fission 4.82e-01   2.23e-02         3.51e+12   \n",
              "3         6   total  absorption 1.14e-02   5.07e-04         8.30e+10   \n",
              "4         6   total     scatter 1.54e+00   3.55e-02         1.12e+13   \n",
              "5         6   total     fission 0.00e+00   0.00e+00         0.00e+00   \n",
              "6         7   total  absorption 1.57e-01   9.14e-03         1.14e+12   \n",
              "7         7   total     scatter 2.38e+01   5.56e-01         1.73e+14   \n",
              "8         7   total     fission 0.00e+00   0.00e+00         0.00e+00   \n",
              "\n",
              "            mat_name  \n",
              "0         UO2 (2.4%)  \n",
              "1         UO2 (2.4%)  \n",
              "2         UO2 (2.4%)  \n",
              "3           Zircaloy  \n",
              "4           Zircaloy  \n",
              "5           Zircaloy  \n",
              "6  Hot borated water  \n",
              "7  Hot borated water  \n",
              "8  Hot borated water  "
            ],
            "text/html": [
              "\n",
              "  <div id=\"df-1fd6d947-a11a-4f8e-bee0-242789dbc986\">\n",
              "    <div class=\"colab-df-container\">\n",
              "      <div>\n",
              "<style scoped>\n",
              "    .dataframe tbody tr th:only-of-type {\n",
              "        vertical-align: middle;\n",
              "    }\n",
              "\n",
              "    .dataframe tbody tr th {\n",
              "        vertical-align: top;\n",
              "    }\n",
              "\n",
              "    .dataframe thead th {\n",
              "        text-align: right;\n",
              "    }\n",
              "</style>\n",
              "<table border=\"1\" class=\"dataframe\">\n",
              "  <thead>\n",
              "    <tr style=\"text-align: right;\">\n",
              "      <th></th>\n",
              "      <th>material</th>\n",
              "      <th>nuclide</th>\n",
              "      <th>score</th>\n",
              "      <th>mean</th>\n",
              "      <th>std. dev.</th>\n",
              "      <th>normalized-mean</th>\n",
              "      <th>mat_name</th>\n",
              "    </tr>\n",
              "  </thead>\n",
              "  <tbody>\n",
              "    <tr>\n",
              "      <th>0</th>\n",
              "      <td>5</td>\n",
              "      <td>total</td>\n",
              "      <td>absorption</td>\n",
              "      <td>0.858384</td>\n",
              "      <td>0.042483</td>\n",
              "      <td>6.249037e+12</td>\n",
              "      <td>UO2 (2.4%)</td>\n",
              "    </tr>\n",
              "    <tr>\n",
              "      <th>1</th>\n",
              "      <td>5</td>\n",
              "      <td>total</td>\n",
              "      <td>scatter</td>\n",
              "      <td>5.454460</td>\n",
              "      <td>0.146132</td>\n",
              "      <td>3.970847e+13</td>\n",
              "      <td>UO2 (2.4%)</td>\n",
              "    </tr>\n",
              "    <tr>\n",
              "      <th>2</th>\n",
              "      <td>5</td>\n",
              "      <td>total</td>\n",
              "      <td>fission</td>\n",
              "      <td>0.482122</td>\n",
              "      <td>0.022348</td>\n",
              "      <td>3.509847e+12</td>\n",
              "      <td>UO2 (2.4%)</td>\n",
              "    </tr>\n",
              "    <tr>\n",
              "      <th>3</th>\n",
              "      <td>6</td>\n",
              "      <td>total</td>\n",
              "      <td>absorption</td>\n",
              "      <td>0.011401</td>\n",
              "      <td>0.000507</td>\n",
              "      <td>8.299820e+10</td>\n",
              "      <td>Zircaloy</td>\n",
              "    </tr>\n",
              "    <tr>\n",
              "      <th>4</th>\n",
              "      <td>6</td>\n",
              "      <td>total</td>\n",
              "      <td>scatter</td>\n",
              "      <td>1.543061</td>\n",
              "      <td>0.035501</td>\n",
              "      <td>1.123349e+13</td>\n",
              "      <td>Zircaloy</td>\n",
              "    </tr>\n",
              "    <tr>\n",
              "      <th>5</th>\n",
              "      <td>6</td>\n",
              "      <td>total</td>\n",
              "      <td>fission</td>\n",
              "      <td>0.000000</td>\n",
              "      <td>0.000000</td>\n",
              "      <td>0.000000e+00</td>\n",
              "      <td>Zircaloy</td>\n",
              "    </tr>\n",
              "    <tr>\n",
              "      <th>6</th>\n",
              "      <td>7</td>\n",
              "      <td>total</td>\n",
              "      <td>absorption</td>\n",
              "      <td>0.156630</td>\n",
              "      <td>0.009135</td>\n",
              "      <td>1.140264e+12</td>\n",
              "      <td>Hot borated water</td>\n",
              "    </tr>\n",
              "    <tr>\n",
              "      <th>7</th>\n",
              "      <td>7</td>\n",
              "      <td>total</td>\n",
              "      <td>scatter</td>\n",
              "      <td>23.766952</td>\n",
              "      <td>0.556440</td>\n",
              "      <td>1.730234e+14</td>\n",
              "      <td>Hot borated water</td>\n",
              "    </tr>\n",
              "    <tr>\n",
              "      <th>8</th>\n",
              "      <td>7</td>\n",
              "      <td>total</td>\n",
              "      <td>fission</td>\n",
              "      <td>0.000000</td>\n",
              "      <td>0.000000</td>\n",
              "      <td>0.000000e+00</td>\n",
              "      <td>Hot borated water</td>\n",
              "    </tr>\n",
              "  </tbody>\n",
              "</table>\n",
              "</div>\n",
              "      <button class=\"colab-df-convert\" onclick=\"convertToInteractive('df-1fd6d947-a11a-4f8e-bee0-242789dbc986')\"\n",
              "              title=\"Convert this dataframe to an interactive table.\"\n",
              "              style=\"display:none;\">\n",
              "        \n",
              "  <svg xmlns=\"http://www.w3.org/2000/svg\" height=\"24px\"viewBox=\"0 0 24 24\"\n",
              "       width=\"24px\">\n",
              "    <path d=\"M0 0h24v24H0V0z\" fill=\"none\"/>\n",
              "    <path d=\"M18.56 5.44l.94 2.06.94-2.06 2.06-.94-2.06-.94-.94-2.06-.94 2.06-2.06.94zm-11 1L8.5 8.5l.94-2.06 2.06-.94-2.06-.94L8.5 2.5l-.94 2.06-2.06.94zm10 10l.94 2.06.94-2.06 2.06-.94-2.06-.94-.94-2.06-.94 2.06-2.06.94z\"/><path d=\"M17.41 7.96l-1.37-1.37c-.4-.4-.92-.59-1.43-.59-.52 0-1.04.2-1.43.59L10.3 9.45l-7.72 7.72c-.78.78-.78 2.05 0 2.83L4 21.41c.39.39.9.59 1.41.59.51 0 1.02-.2 1.41-.59l7.78-7.78 2.81-2.81c.8-.78.8-2.07 0-2.86zM5.41 20L4 18.59l7.72-7.72 1.47 1.35L5.41 20z\"/>\n",
              "  </svg>\n",
              "      </button>\n",
              "      \n",
              "  <style>\n",
              "    .colab-df-container {\n",
              "      display:flex;\n",
              "      flex-wrap:wrap;\n",
              "      gap: 12px;\n",
              "    }\n",
              "\n",
              "    .colab-df-convert {\n",
              "      background-color: #E8F0FE;\n",
              "      border: none;\n",
              "      border-radius: 50%;\n",
              "      cursor: pointer;\n",
              "      display: none;\n",
              "      fill: #1967D2;\n",
              "      height: 32px;\n",
              "      padding: 0 0 0 0;\n",
              "      width: 32px;\n",
              "    }\n",
              "\n",
              "    .colab-df-convert:hover {\n",
              "      background-color: #E2EBFA;\n",
              "      box-shadow: 0px 1px 2px rgba(60, 64, 67, 0.3), 0px 1px 3px 1px rgba(60, 64, 67, 0.15);\n",
              "      fill: #174EA6;\n",
              "    }\n",
              "\n",
              "    [theme=dark] .colab-df-convert {\n",
              "      background-color: #3B4455;\n",
              "      fill: #D2E3FC;\n",
              "    }\n",
              "\n",
              "    [theme=dark] .colab-df-convert:hover {\n",
              "      background-color: #434B5C;\n",
              "      box-shadow: 0px 1px 3px 1px rgba(0, 0, 0, 0.15);\n",
              "      filter: drop-shadow(0px 1px 2px rgba(0, 0, 0, 0.3));\n",
              "      fill: #FFFFFF;\n",
              "    }\n",
              "  </style>\n",
              "\n",
              "      <script>\n",
              "        const buttonEl =\n",
              "          document.querySelector('#df-1fd6d947-a11a-4f8e-bee0-242789dbc986 button.colab-df-convert');\n",
              "        buttonEl.style.display =\n",
              "          google.colab.kernel.accessAllowed ? 'block' : 'none';\n",
              "\n",
              "        async function convertToInteractive(key) {\n",
              "          const element = document.querySelector('#df-1fd6d947-a11a-4f8e-bee0-242789dbc986');\n",
              "          const dataTable =\n",
              "            await google.colab.kernel.invokeFunction('convertToInteractive',\n",
              "                                                     [key], {});\n",
              "          if (!dataTable) return;\n",
              "\n",
              "          const docLinkHtml = 'Like what you see? Visit the ' +\n",
              "            '<a target=\"_blank\" href=https://colab.research.google.com/notebooks/data_table.ipynb>data table notebook</a>'\n",
              "            + ' to learn more about interactive tables.';\n",
              "          element.innerHTML = '';\n",
              "          dataTable['output_type'] = 'display_data';\n",
              "          await google.colab.output.renderOutput(dataTable, element);\n",
              "          const docLink = document.createElement('div');\n",
              "          docLink.innerHTML = docLinkHtml;\n",
              "          element.appendChild(docLink);\n",
              "        }\n",
              "      </script>\n",
              "    </div>\n",
              "  </div>\n",
              "  "
            ]
          },
          "metadata": {},
          "execution_count": 50
        }
      ],
      "source": [
        "# get all materials from the geometry\n",
        "materials = pincell_model.geometry.get_all_materials()\n",
        "# set names based on matching material IDs\n",
        "for mat_id, material in materials.items():\n",
        "    df.loc[df['material'] == mat_id, 'mat_name'] = material.name\n",
        "df"
      ]
    },
    {
      "cell_type": "code",
      "execution_count": null,
      "metadata": {
        "id": "80b6655d-c5a9-4104-8c9c-6539a883ccbd",
        "colab": {
          "base_uri": "https://localhost:8080/",
          "height": 143
        },
        "outputId": "3e917098-b15c-49ab-b6ef-c56f6bbefc62"
      },
      "outputs": [
        {
          "output_type": "execute_result",
          "data": {
            "text/plain": [
              "   material nuclide    score      mean  std. dev.  normalized-mean  \\\n",
              "2         5   total  fission  0.482122   0.022348     3.509847e+12   \n",
              "5         6   total  fission  0.000000   0.000000     0.000000e+00   \n",
              "8         7   total  fission  0.000000   0.000000     0.000000e+00   \n",
              "\n",
              "            mat_name  \n",
              "2         UO2 (2.4%)  \n",
              "5           Zircaloy  \n",
              "8  Hot borated water  "
            ],
            "text/html": [
              "\n",
              "  <div id=\"df-4d3fad8e-ec80-4466-bb82-f43965e61d00\">\n",
              "    <div class=\"colab-df-container\">\n",
              "      <div>\n",
              "<style scoped>\n",
              "    .dataframe tbody tr th:only-of-type {\n",
              "        vertical-align: middle;\n",
              "    }\n",
              "\n",
              "    .dataframe tbody tr th {\n",
              "        vertical-align: top;\n",
              "    }\n",
              "\n",
              "    .dataframe thead th {\n",
              "        text-align: right;\n",
              "    }\n",
              "</style>\n",
              "<table border=\"1\" class=\"dataframe\">\n",
              "  <thead>\n",
              "    <tr style=\"text-align: right;\">\n",
              "      <th></th>\n",
              "      <th>material</th>\n",
              "      <th>nuclide</th>\n",
              "      <th>score</th>\n",
              "      <th>mean</th>\n",
              "      <th>std. dev.</th>\n",
              "      <th>normalized-mean</th>\n",
              "      <th>mat_name</th>\n",
              "    </tr>\n",
              "  </thead>\n",
              "  <tbody>\n",
              "    <tr>\n",
              "      <th>2</th>\n",
              "      <td>5</td>\n",
              "      <td>total</td>\n",
              "      <td>fission</td>\n",
              "      <td>0.482122</td>\n",
              "      <td>0.022348</td>\n",
              "      <td>3.509847e+12</td>\n",
              "      <td>UO2 (2.4%)</td>\n",
              "    </tr>\n",
              "    <tr>\n",
              "      <th>5</th>\n",
              "      <td>6</td>\n",
              "      <td>total</td>\n",
              "      <td>fission</td>\n",
              "      <td>0.000000</td>\n",
              "      <td>0.000000</td>\n",
              "      <td>0.000000e+00</td>\n",
              "      <td>Zircaloy</td>\n",
              "    </tr>\n",
              "    <tr>\n",
              "      <th>8</th>\n",
              "      <td>7</td>\n",
              "      <td>total</td>\n",
              "      <td>fission</td>\n",
              "      <td>0.000000</td>\n",
              "      <td>0.000000</td>\n",
              "      <td>0.000000e+00</td>\n",
              "      <td>Hot borated water</td>\n",
              "    </tr>\n",
              "  </tbody>\n",
              "</table>\n",
              "</div>\n",
              "      <button class=\"colab-df-convert\" onclick=\"convertToInteractive('df-4d3fad8e-ec80-4466-bb82-f43965e61d00')\"\n",
              "              title=\"Convert this dataframe to an interactive table.\"\n",
              "              style=\"display:none;\">\n",
              "        \n",
              "  <svg xmlns=\"http://www.w3.org/2000/svg\" height=\"24px\"viewBox=\"0 0 24 24\"\n",
              "       width=\"24px\">\n",
              "    <path d=\"M0 0h24v24H0V0z\" fill=\"none\"/>\n",
              "    <path d=\"M18.56 5.44l.94 2.06.94-2.06 2.06-.94-2.06-.94-.94-2.06-.94 2.06-2.06.94zm-11 1L8.5 8.5l.94-2.06 2.06-.94-2.06-.94L8.5 2.5l-.94 2.06-2.06.94zm10 10l.94 2.06.94-2.06 2.06-.94-2.06-.94-.94-2.06-.94 2.06-2.06.94z\"/><path d=\"M17.41 7.96l-1.37-1.37c-.4-.4-.92-.59-1.43-.59-.52 0-1.04.2-1.43.59L10.3 9.45l-7.72 7.72c-.78.78-.78 2.05 0 2.83L4 21.41c.39.39.9.59 1.41.59.51 0 1.02-.2 1.41-.59l7.78-7.78 2.81-2.81c.8-.78.8-2.07 0-2.86zM5.41 20L4 18.59l7.72-7.72 1.47 1.35L5.41 20z\"/>\n",
              "  </svg>\n",
              "      </button>\n",
              "      \n",
              "  <style>\n",
              "    .colab-df-container {\n",
              "      display:flex;\n",
              "      flex-wrap:wrap;\n",
              "      gap: 12px;\n",
              "    }\n",
              "\n",
              "    .colab-df-convert {\n",
              "      background-color: #E8F0FE;\n",
              "      border: none;\n",
              "      border-radius: 50%;\n",
              "      cursor: pointer;\n",
              "      display: none;\n",
              "      fill: #1967D2;\n",
              "      height: 32px;\n",
              "      padding: 0 0 0 0;\n",
              "      width: 32px;\n",
              "    }\n",
              "\n",
              "    .colab-df-convert:hover {\n",
              "      background-color: #E2EBFA;\n",
              "      box-shadow: 0px 1px 2px rgba(60, 64, 67, 0.3), 0px 1px 3px 1px rgba(60, 64, 67, 0.15);\n",
              "      fill: #174EA6;\n",
              "    }\n",
              "\n",
              "    [theme=dark] .colab-df-convert {\n",
              "      background-color: #3B4455;\n",
              "      fill: #D2E3FC;\n",
              "    }\n",
              "\n",
              "    [theme=dark] .colab-df-convert:hover {\n",
              "      background-color: #434B5C;\n",
              "      box-shadow: 0px 1px 3px 1px rgba(0, 0, 0, 0.15);\n",
              "      filter: drop-shadow(0px 1px 2px rgba(0, 0, 0, 0.3));\n",
              "      fill: #FFFFFF;\n",
              "    }\n",
              "  </style>\n",
              "\n",
              "      <script>\n",
              "        const buttonEl =\n",
              "          document.querySelector('#df-4d3fad8e-ec80-4466-bb82-f43965e61d00 button.colab-df-convert');\n",
              "        buttonEl.style.display =\n",
              "          google.colab.kernel.accessAllowed ? 'block' : 'none';\n",
              "\n",
              "        async function convertToInteractive(key) {\n",
              "          const element = document.querySelector('#df-4d3fad8e-ec80-4466-bb82-f43965e61d00');\n",
              "          const dataTable =\n",
              "            await google.colab.kernel.invokeFunction('convertToInteractive',\n",
              "                                                     [key], {});\n",
              "          if (!dataTable) return;\n",
              "\n",
              "          const docLinkHtml = 'Like what you see? Visit the ' +\n",
              "            '<a target=\"_blank\" href=https://colab.research.google.com/notebooks/data_table.ipynb>data table notebook</a>'\n",
              "            + ' to learn more about interactive tables.';\n",
              "          element.innerHTML = '';\n",
              "          dataTable['output_type'] = 'display_data';\n",
              "          await google.colab.output.renderOutput(dataTable, element);\n",
              "          const docLink = document.createElement('div');\n",
              "          docLink.innerHTML = docLinkHtml;\n",
              "          element.appendChild(docLink);\n",
              "        }\n",
              "      </script>\n",
              "    </div>\n",
              "  </div>\n",
              "  "
            ]
          },
          "metadata": {},
          "execution_count": 51
        }
      ],
      "source": [
        "fission_df = df[df['score'] == 'fission']\n",
        "fission_df"
      ]
    },
    {
      "cell_type": "code",
      "execution_count": null,
      "metadata": {
        "id": "83127c2a-3fcd-480c-9868-895124159238",
        "colab": {
          "base_uri": "https://localhost:8080/",
          "height": 335
        },
        "outputId": "520de471-7219-46f8-bf2b-491a6970f25d"
      },
      "outputs": [
        {
          "output_type": "display_data",
          "data": {
            "text/plain": [
              "<Figure size 432x288 with 1 Axes>"
            ],
            "image/png": "[encoded data removed]"
          },
          "metadata": {
            "needs_background": "light"
          }
        }
      ],
      "source": [
        "fission_df.plot('mat_name', 'normalized-mean', kind='bar', ylabel='fissions / s')\n",
        "from matplotlib import pyplot as plt\n",
        "_ = plt.xticks(rotation=30, ha='right')"
      ]
    },
    {
      "cell_type": "code",
      "execution_count": null,
      "metadata": {
        "id": "93ce1de1-f9d2-4df9-882a-e25181dea02a",
        "colab": {
          "base_uri": "https://localhost:8080/",
          "height": 631
        },
        "outputId": "2d355f65-bea4-436e-9a07-5b1bbf804d59"
      },
      "outputs": [
        {
          "output_type": "display_data",
          "data": {
            "text/plain": [
              "<Figure size 432x288 with 1 Axes>"
            ],
            "image/png": "[encoded data removed]"
          },
          "metadata": {
            "needs_background": "light"
          }
        },
        {
          "output_type": "display_data",
          "data": {
            "text/plain": [
              "<Figure size 432x288 with 1 Axes>"
            ],
            "image/png": "[encoded data removed]"
          },
          "metadata": {
            "needs_background": "light"
          }
        }
      ],
      "source": [
        "scatter_df = df[df['score'] == 'scatter']\n",
        "scatter_df.plot('mat_name', 'mean', kind='bar', ylabel='scatters / s')\n",
        "_ = plt.xticks(rotation=30, ha='right')\n",
        "\n",
        "absorption_df = df[df['score'] == 'absorption']\n",
        "absorption_df.plot('mat_name', 'mean', kind='bar', ylabel='absorptions / s')\n",
        "_ = plt.xticks(rotation=30, ha='right')"
      ]
    },
    {
      "cell_type": "markdown",
      "source": [
        "# Ejercicio Propuesto"
      ],
      "metadata": {
        "id": "7zn_H4tZE4Vb"
      }
    },
    {
      "cell_type": "markdown",
      "source": [
        "**Obejtivo:**\n",
        "Crear un programa que mida la dosis de radiacion según la distancia a una fuente puntal de Co60 blindado por un cilindro de acero.\n",
        "\n",
        "Se propone en un ejercicio en 3 partes.\n",
        "\n",
        "***Parte 1:***\n",
        "\n",
        "Crear una geometria con las siguientes caracteristicas:\n",
        "\n",
        "*   Fuente  de cobalto\n",
        "*   Un cilindro de acero con diametro externo 72 cm, grosor de 1.5 cm y altura de 200cm\n",
        "*   cree las esferas que rodean al cilindro con diferentes radios (estas son las superficies en las cuales se medira la dosis)\n",
        "*   Recuerde delimitar el universo\n",
        "\n",
        "*Nota:* Tome este códico como ayuda para la creación de las esferas dado que es repetitivo\n",
        "\n",
        "1.\n",
        "\n",
        "                s_2 = openmc.Sphere(r=225)\n",
        "                s_3 = openmc.Sphere(r=250)\n",
        "                s_4 = openmc.Sphere(r=275)\n",
        "                s_5 = openmc.Sphere(r=300)\n",
        "                s_6 = openmc.Sphere(r=325)\n",
        "                s_7 = openmc.Sphere(r=350)\n",
        "                s_8 = openmc.Sphere(r=375)\n",
        "                s_9 = openmc.Sphere(r=400)\n",
        "\n",
        "2.\n",
        "\n",
        "                s_3_region = +s_2 & -s_3\n",
        "                s_3_cell = openmc.Cell(region= s_3_region)\n",
        "                s_4_region = +s_3 & -s_4\n",
        "                s_4_cell = openmc.Cell(region= s_4_region)\n",
        "                s_5_region = +s_4 & -s_5\n",
        "                s_5_cell = openmc.Cell(region= s_5_region)\n",
        "                s_6_region = +s_5 & -s_6\n",
        "                s_6_cell = openmc.Cell(region= s_6_region)\n",
        "                s_7_region = +s_6 & -s_7\n",
        "                s_7_cell = openmc.Cell(region= s_7_region)\n",
        "                s_8_region = +s_7 & -s_8\n",
        "                s_8_cell = openmc.Cell(region= s_8_region)\n",
        "                s_9_region = +s_8 & -s_9\n",
        "                s_9_cell = openmc.Cell(region= s_9_region)\n",
        "\n",
        "***Parte 2:***\n",
        "Cree los tally que permitan medir la dosis en cada superficie esferica.\n",
        "\n",
        "*Nota:* La \"receta\" para calcular dosis es:\n",
        "1. Filtros de energía y coeficientes de dosis\n",
        "\n",
        "2. Score de corriente\n",
        "\n",
        "3. \"Normalización de las unidades\"\n",
        "  *   Dividir por el área\n",
        "  *   Dividir por el número de partículas.\n",
        "\n",
        "4. Factores de origen.\n",
        "tasa de emisión\n",
        "decae por segundo\n",
        "\n",
        "***Parte 3:*** Graficar tanto la geometría como dosis vs distancia.\n",
        "\n",
        "\n"
      ],
      "metadata": {
        "id": "Uc57aOIIZ6HX"
      }
    },
    {
      "cell_type": "code",
      "source": [
        "acero=openmc.Material()\n",
        "acero.add_element('Fe', 0.98, percent_type='wo')\n",
        "acero.add_element('C', 0.02, percent_type='wo')\n",
        "acero.set_density('g/cm3', 7.75)\n",
        "\n",
        "mats = openmc.Materials([acero])"
      ],
      "metadata": {
        "id": "Ai9Q1j-gKym7"
      },
      "execution_count": null,
      "outputs": []
    },
    {
      "cell_type": "code",
      "source": [
        "altura = 200\n",
        "radio_exterior = 36\n",
        "grosor = 1.5\n",
        "\n",
        "cilindro_exterior= openmc.ZCylinder(r=radio_exterior)\n",
        "cilindro_interior= openmc.ZCylinder(r=radio_exterior-grosor)\n",
        "\n",
        "tapa_superior_exterior = openmc.ZPlane(z0=(altura*0.5)+grosor)\n",
        "tapa_superior_interior = openmc.ZPlane(z0=(altura*0.5))\n",
        "\n",
        "tapa_inferior_exterior = openmc.ZPlane(z0=(-altura*0.5)-grosor )\n",
        "tapa_inferior_interior = openmc.ZPlane(z0= (-altura*0.5))"
      ],
      "metadata": {
        "id": "wrSv8sEZZM8q"
      },
      "execution_count": null,
      "outputs": []
    },
    {
      "cell_type": "code",
      "source": [
        "cilindro_region = -cilindro_exterior & +cilindro_interior & -tapa_superior_interior & +tapa_inferior_interior\n",
        "cilindro_cell = openmc.Cell(region= cilindro_region)\n",
        "cilindro_cell.fill = acero\n",
        "\n",
        "tapa_superior_region = -tapa_superior_exterior & +tapa_superior_interior & -cilindro_exterior\n",
        "tapa_superior_cell = openmc.Cell(region=tapa_superior_region, fill= acero)\n",
        "\n",
        "tapa_inferior_region = +tapa_inferior_exterior & -tapa_inferior_interior & -cilindro_exterior\n",
        "tapa_inferior_cell = openmc.Cell(region = tapa_inferior_region, fill= acero)\n",
        "\n",
        "void_region= -cilindro_interior & -tapa_superior_interior & +tapa_inferior_interior\n",
        "void_cell = openmc.Cell(region = void_region)\n",
        "\n",
        "\n"
      ],
      "metadata": {
        "id": "tTOwmyWva8-a"
      },
      "execution_count": null,
      "outputs": []
    },
    {
      "cell_type": "code",
      "source": [
        "#Crear las espferas donde se medirá la dosis\n",
        "\n",
        "s_1 = openmc.Sphere(r=200)\n",
        "s_2 = openmc.Sphere(r=225)\n",
        "s_3 = openmc.Sphere(r=250)\n",
        "s_4 = openmc.Sphere(r=275)\n",
        "s_5 = openmc.Sphere(r=300)\n",
        "s_6 = openmc.Sphere(r=325)\n",
        "s_7 = openmc.Sphere(r=350)\n",
        "s_8 = openmc.Sphere(r=375)\n",
        "s_9 = openmc.Sphere(r=400)\n",
        "\n",
        "s_limite = openmc.Sphere(r=401, boundary_type='vacuum')\n",
        "\n",
        "s_1_region = -s_1 & ~cilindro_region & ~tapa_superior_region & ~tapa_inferior_region & ~void_region\n",
        "s_1_cell = openmc.Cell(region = s_1_region)\n",
        "\n",
        "s_2_region = -s_2 & +s_1\n",
        "s_2_cell = openmc.Cell(region=s_2_region)\n",
        "\n",
        "s_3_region = +s_2 & -s_3\n",
        "s_3_cell = openmc.Cell(region= s_3_region)\n",
        "s_4_region = +s_3 & -s_4\n",
        "s_4_cell = openmc.Cell(region= s_4_region)\n",
        "s_5_region = +s_4 & -s_5\n",
        "s_5_cell = openmc.Cell(region= s_5_region)\n",
        "s_6_region = +s_5 & -s_6\n",
        "s_6_cell = openmc.Cell(region= s_6_region)\n",
        "s_7_region = +s_6 & -s_7\n",
        "s_7_cell = openmc.Cell(region= s_7_region)\n",
        "s_8_region = +s_7 & -s_8\n",
        "s_8_cell = openmc.Cell(region= s_8_region)\n",
        "s_9_region = +s_8 & -s_9\n",
        "s_9_cell = openmc.Cell(region= s_9_region)\n",
        "\n",
        "s_limite_region = +s_9 & -s_limite\n",
        "s_limite_cell = openmc.Cell(region=s_limite_region)"
      ],
      "metadata": {
        "id": "p9vsG3nOdvw0"
      },
      "execution_count": null,
      "outputs": []
    },
    {
      "cell_type": "code",
      "source": [
        "universe = openmc.Universe(cells=[\n",
        "    void_cell, cilindro_cell, tapa_superior_cell,\n",
        "    tapa_inferior_cell, s_1_cell, s_2_cell,\n",
        "    s_3_cell, s_4_cell,\n",
        "    s_5_cell, s_6_cell, s_7_cell, s_8_cell, s_9_cell, s_limite_cell])\n",
        "\n",
        "geom = openmc.Geometry(universe)\n",
        "\n",
        "plt.show(universe.plot(width=(700,700), basis = 'xz'))\n"
      ],
      "metadata": {
        "colab": {
          "base_uri": "https://localhost:8080/",
          "height": 248
        },
        "id": "GcfTpT1TgLl8",
        "outputId": "d2afe0a1-4181-4a9f-d5ac-fad5fcf2f5db"
      },
      "execution_count": null,
      "outputs": [
        {
          "output_type": "display_data",
          "data": {
            "text/plain": [
              "<Figure size 258.065x264.901 with 1 Axes>"
            ],
            "image/png": "[encoded data removed]"
          },
          "metadata": {
            "needs_background": "light"
          }
        }
      ]
    },
    {
      "cell_type": "code",
      "source": [
        "sett = openmc.Settings()\n",
        "sett.batches =10\n",
        "sett.inactive = 0\n",
        "sett.particles = 500\n",
        "sett.run_mode= 'fixed source'\n",
        "\n",
        "source = openmc.Source()\n",
        "source.space = openmc.stats.Point((0,0,0,))\n",
        "source.angle = openmc.stats.Isotropic()\n",
        "source.energy = openmc.stats.Discrete([1.0e6],[1.0])\n",
        "source.particle = 'photon'\n",
        "\n",
        "sett.source = source\n"
      ],
      "metadata": {
        "id": "bRy8aO3thFVk"
      },
      "execution_count": null,
      "outputs": []
    },
    {
      "cell_type": "code",
      "source": [
        "energy_bins, dose_coeffs = openmc.data.dose_coefficients( particle= 'photon', geometry = 'AP')\n",
        "\n",
        "energy_function_filter = openmc.EnergyFunctionFilter(energy_bins, dose_coeffs)\n",
        "\n",
        "photon_particle_filter = openmc.ParticleFilter(['photon'])\n",
        "\n",
        "surface_to_tally=[s_1, s_2, s_3, s_4, s_5, s_6, s_7, s_8, s_9]\n",
        "\n",
        "n=1\n",
        "tallies= openmc.Tallies()\n",
        "for surface in surface_to_tally:\n",
        "  surface_filter = openmc.SurfaceFilter(surface)\n",
        "  dose_tally = openmc.Tally(name=\"dosis\"+str(n))\n",
        "  dose_tally.scores = ['current']\n",
        "  dose_tally.filters = [surface_filter, photon_particle_filter, energy_function_filter ]\n",
        "  tallies.append(dose_tally)\n",
        "  n = n+1\n",
        "\n"
      ],
      "metadata": {
        "id": "8sy9knx4ibwd"
      },
      "execution_count": null,
      "outputs": []
    },
    {
      "cell_type": "code",
      "source": [
        "model = openmc.model.Model(geom,mats, sett, tallies)\n",
        "\n",
        "sp_filename = model.run()"
      ],
      "metadata": {
        "colab": {
          "base_uri": "https://localhost:8080/"
        },
        "id": "gPpJjSHGlPa_",
        "outputId": "6012b47d-ff23-440b-a9f5-e5366f7019c2"
      },
      "execution_count": null,
      "outputs": [
        {
          "output_type": "stream",
          "name": "stdout",
          "text": [
            "                                %%%%%%%%%%%%%%%\n",
            "                           %%%%%%%%%%%%%%%%%%%%%%%%\n",
            "                        %%%%%%%%%%%%%%%%%%%%%%%%%%%%%%\n",
            "                      %%%%%%%%%%%%%%%%%%%%%%%%%%%%%%%%%%\n",
            "                    %%%%%%%%%%%%%%%%%%%%%%%%%%%%%%%%%%%%%%\n",
            "                   %%%%%%%%%%%%%%%%%%%%%%%%%%%%%%%%%%%%%%%%\n",
            "                                    %%%%%%%%%%%%%%%%%%%%%%%%\n",
            "                                     %%%%%%%%%%%%%%%%%%%%%%%%\n",
            "                 ###############      %%%%%%%%%%%%%%%%%%%%%%%%\n",
            "                ##################     %%%%%%%%%%%%%%%%%%%%%%%\n",
            "                ###################     %%%%%%%%%%%%%%%%%%%%%%%\n",
            "                ####################     %%%%%%%%%%%%%%%%%%%%%%\n",
            "                #####################     %%%%%%%%%%%%%%%%%%%%%\n",
            "                ######################     %%%%%%%%%%%%%%%%%%%%\n",
            "                #######################     %%%%%%%%%%%%%%%%%%\n",
            "                 #######################     %%%%%%%%%%%%%%%%%\n",
            "                 ######################     %%%%%%%%%%%%%%%%%\n",
            "                  ####################     %%%%%%%%%%%%%%%%%\n",
            "                    #################     %%%%%%%%%%%%%%%%%\n",
            "                     ###############     %%%%%%%%%%%%%%%%\n",
            "                       ############     %%%%%%%%%%%%%%%\n",
            "                          ########     %%%%%%%%%%%%%%\n",
            "                                      %%%%%%%%%%%\n",
            "\n",
            "                 | The OpenMC Monte Carlo Code\n",
            "       Copyright | 2011-2022 MIT, UChicago Argonne LLC, and contributors\n",
            "         License | https://docs.openmc.org/en/latest/license.html\n",
            "         Version | 0.13.1\n",
            "        Git SHA1 | 33bc948f4b855c037975f16d16091fe4ecd12de3\n",
            "       Date/Time | 2022-10-04 15:20:59\n",
            "  OpenMP Threads | 2\n",
            "\n",
            " Reading settings XML file...\n",
            " Reading cross sections XML file...\n",
            " Reading materials XML file...\n",
            " Reading geometry XML file...\n",
            " Reading Fe54 from /content/endfb71_hdf5/Fe54.h5\n",
            " Reading Fe from /content/endfb71_hdf5/photon/Fe.h5 \n",
            " Reading Fe56 from /content/endfb71_hdf5/Fe56.h5\n",
            " Reading Fe57 from /content/endfb71_hdf5/Fe57.h5\n",
            " Reading Fe58 from /content/endfb71_hdf5/Fe58.h5\n",
            " Reading C0 from /content/endfb71_hdf5/C0.h5\n",
            " Reading C from /content/endfb71_hdf5/photon/C.h5 \n",
            " Minimum neutron data temperature: 294 K\n",
            " Maximum neutron data temperature: 294 K\n",
            " Reading tallies XML file...\n",
            " Preparing distributed cell instances...\n",
            " Reading plot XML file...\n",
            " Writing summary.h5 file...\n",
            " Maximum neutron transport energy: 20000000 eV for Fe58\n",
            "\n",
            " ===============>     FIXED SOURCE TRANSPORT SIMULATION     <===============\n",
            "\n",
            " Simulating batch 1\n",
            " Simulating batch 2\n",
            " Simulating batch 3\n",
            " Simulating batch 4\n",
            " Simulating batch 5\n",
            " Simulating batch 6\n",
            " Simulating batch 7\n",
            " Simulating batch 8\n",
            " Simulating batch 9\n",
            " Simulating batch 10\n",
            " Creating state point statepoint.10.h5...\n",
            "\n",
            " =======================>     TIMING STATISTICS     <=======================\n",
            "\n",
            " Total time for initialization     = 1.0505e+00 seconds\n",
            "   Reading cross sections          = 1.0159e+00 seconds\n",
            " Total time in simulation          = 1.1530e-01 seconds\n",
            "   Time in transport only          = 8.2564e-02 seconds\n",
            "   Time in active batches          = 1.1530e-01 seconds\n",
            "   Time accumulating tallies       = 1.3932e-04 seconds\n",
            "   Time writing statepoints        = 2.6949e-02 seconds\n",
            " Total time for finalization       = 5.5344e-04 seconds\n",
            " Total time elapsed                = 1.1722e+00 seconds\n",
            " Calculation Rate (active)         = 43364 particles/second\n",
            "\n",
            " ============================>     RESULTS     <============================\n",
            "\n",
            " Leakage Fraction            = 0.76200 +/- 0.00520\n",
            "\n"
          ]
        }
      ]
    },
    {
      "cell_type": "code",
      "source": [
        "import math\n",
        "\n",
        "sp = openmc.StatePoint(sp_filename)\n",
        "\n",
        "n=1\n",
        "distances=[]\n",
        "dose_rate_in_pSv=[]\n",
        "for surface in surface_to_tally:\n",
        "  tally = sp.get_tally(name=\"dosis\"+ str(n))\n",
        "  df = tally.get_pandas_dataframe()\n",
        "  tally_result = df['mean'].sum()\n",
        "  tally_std_dev = df ['std. dev.'].sum()\n",
        "\n",
        "  #pSv*cm2\n",
        "  dose_in_pSv = tally_result / (4* math.pi * math.pow(surface.r, 2))\n",
        "\n",
        "  distances.append(surface.r)\n",
        "\n",
        "  source_activity = 56000\n",
        "  emission_rate = 2\n",
        "  gamma_per_second = source_activity * emission_rate\n",
        "\n",
        "  tasa_de_dosis=  dose_in_pSv * gamma_per_second\n",
        "\n",
        "  dose_rate_in_pSv.append(tasa_de_dosis)\n",
        "\n",
        "  n=n+1\n",
        "\n"
      ],
      "metadata": {
        "id": "Nw4pW3ocljnt"
      },
      "execution_count": null,
      "outputs": []
    },
    {
      "cell_type": "code",
      "source": [
        "plt.plot(distances,dose_rate_in_pSv, 'o')"
      ],
      "metadata": {
        "colab": {
          "base_uri": "https://localhost:8080/",
          "height": 282
        },
        "id": "nLfqG_QjpKsH",
        "outputId": "a14511e3-2f51-406a-d3d3-c6690a1d164a"
      },
      "execution_count": null,
      "outputs": [
        {
          "output_type": "execute_result",
          "data": {
            "text/plain": [
              "[<matplotlib.lines.Line2D at 0x7f8821784890>]"
            ]
          },
          "metadata": {},
          "execution_count": 71
        },
        {
          "output_type": "display_data",
          "data": {
            "text/plain": [
              "<Figure size 432x288 with 1 Axes>"
            ],
            "image/png": "[encoded data removed]"
          },
          "metadata": {
            "needs_background": "light"
          }
        }
      ]
    },
    {
      "cell_type": "markdown",
      "source": [
        "# Referencias"
      ],
      "metadata": {
        "id": "hAfWMa05MTky"
      }
    },
    {
      "cell_type": "markdown",
      "source": [
        "https://docs.openmc.org/en/stable/usersguide/index.html\n",
        "\n",
        "https://openmc.org/\n",
        "\n",
        "https://github.com/openmc-dev/openmc-notebooks\n",
        "\n",
        "https://github.com/fusion-energy/neutronics-workshop"
      ],
      "metadata": {
        "id": "PmwK4iS9MYGr"
      }
    }
  ]
}